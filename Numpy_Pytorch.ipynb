{
  "nbformat": 4,
  "nbformat_minor": 0,
  "metadata": {
    "colab": {
      "provenance": []
    },
    "kernelspec": {
      "name": "python3",
      "display_name": "Python 3"
    },
    "language_info": {
      "name": "python"
    }
  },
  "cells": [
    {
      "cell_type": "code",
      "execution_count": 240,
      "metadata": {
        "id": "TtVZrziSTmos"
      },
      "outputs": [],
      "source": [
        "import numpy as np\n",
        "import torch"
      ]
    },
    {
      "cell_type": "code",
      "source": [
        "a=np.array([1,2,3,4,5])"
      ],
      "metadata": {
        "id": "pQ3QLwPtTxVl"
      },
      "execution_count": 241,
      "outputs": []
    },
    {
      "cell_type": "code",
      "source": [
        "type(a)"
      ],
      "metadata": {
        "colab": {
          "base_uri": "https://localhost:8080/"
        },
        "id": "S2li4wUITxZM",
        "outputId": "8a0d8ed0-a91f-4bab-e16b-b1a0f9de3fc0"
      },
      "execution_count": 242,
      "outputs": [
        {
          "output_type": "execute_result",
          "data": {
            "text/plain": [
              "numpy.ndarray"
            ]
          },
          "metadata": {},
          "execution_count": 242
        }
      ]
    },
    {
      "cell_type": "code",
      "source": [
        "a[2]=10\n",
        "print(a)"
      ],
      "metadata": {
        "colab": {
          "base_uri": "https://localhost:8080/"
        },
        "id": "FapLzPkNUDU9",
        "outputId": "164930ad-bf17-4d75-c7f3-a23b40ba81f2"
      },
      "execution_count": 243,
      "outputs": [
        {
          "output_type": "stream",
          "name": "stdout",
          "text": [
            "[ 1  2 10  4  5]\n"
          ]
        }
      ]
    },
    {
      "cell_type": "code",
      "source": [
        "b = np.array([[1,2,3],[4,5,6]])   # Create a rank 2 array\n",
        "print(b)"
      ],
      "metadata": {
        "colab": {
          "base_uri": "https://localhost:8080/"
        },
        "id": "7KjZ_Zf3Txhd",
        "outputId": "3ab36fd4-595c-4a1e-e845-9d9023290972"
      },
      "execution_count": 244,
      "outputs": [
        {
          "output_type": "stream",
          "name": "stdout",
          "text": [
            "[[1 2 3]\n",
            " [4 5 6]]\n"
          ]
        }
      ]
    },
    {
      "cell_type": "code",
      "source": [
        "b.shape"
      ],
      "metadata": {
        "colab": {
          "base_uri": "https://localhost:8080/"
        },
        "id": "4Ta5nJM6Txxi",
        "outputId": "e54a9be6-2433-44d6-97df-e22077205f17"
      },
      "execution_count": 245,
      "outputs": [
        {
          "output_type": "execute_result",
          "data": {
            "text/plain": [
              "(2, 3)"
            ]
          },
          "metadata": {},
          "execution_count": 245
        }
      ]
    },
    {
      "cell_type": "code",
      "source": [
        "print(b[0,2])"
      ],
      "metadata": {
        "colab": {
          "base_uri": "https://localhost:8080/"
        },
        "id": "7P8hp-4QTx0r",
        "outputId": "71387672-e3fb-4731-c008-7f693326f3fd"
      },
      "execution_count": 246,
      "outputs": [
        {
          "output_type": "stream",
          "name": "stdout",
          "text": [
            "3\n"
          ]
        }
      ]
    },
    {
      "cell_type": "markdown",
      "source": [
        "# Create an array of all zeros"
      ],
      "metadata": {
        "id": "1X6eu34gVCol"
      }
    },
    {
      "cell_type": "code",
      "source": [
        "c = np.zeros((3,3))  \n",
        "print(c)"
      ],
      "metadata": {
        "colab": {
          "base_uri": "https://localhost:8080/"
        },
        "id": "Pht_m1UETx4M",
        "outputId": "b9f4eed7-0420-4212-f0c2-4553d02a88b2"
      },
      "execution_count": 247,
      "outputs": [
        {
          "output_type": "stream",
          "name": "stdout",
          "text": [
            "[[0. 0. 0.]\n",
            " [0. 0. 0.]\n",
            " [0. 0. 0.]]\n"
          ]
        }
      ]
    },
    {
      "cell_type": "markdown",
      "source": [
        "# Create an array of all ones"
      ],
      "metadata": {
        "id": "zfZ2i8QSVAtU"
      }
    },
    {
      "cell_type": "code",
      "source": [
        "d = np.ones((4,3))   \n",
        "print(d)"
      ],
      "metadata": {
        "colab": {
          "base_uri": "https://localhost:8080/"
        },
        "id": "Zwj7yiNETx8j",
        "outputId": "f51a772e-a420-456b-b6a4-da32ecaf47a6"
      },
      "execution_count": 248,
      "outputs": [
        {
          "output_type": "stream",
          "name": "stdout",
          "text": [
            "[[1. 1. 1.]\n",
            " [1. 1. 1.]\n",
            " [1. 1. 1.]\n",
            " [1. 1. 1.]]\n"
          ]
        }
      ]
    },
    {
      "cell_type": "markdown",
      "source": [
        " # Create a constant array"
      ],
      "metadata": {
        "id": "SSy2K2A9U-Dn"
      }
    },
    {
      "cell_type": "code",
      "source": [
        "e = np.full((5,5), 7)\n",
        "print(e)"
      ],
      "metadata": {
        "colab": {
          "base_uri": "https://localhost:8080/"
        },
        "id": "4UQVd_RdTy3-",
        "outputId": "292636a4-bd89-4dec-ee1f-4c71c744e9e7"
      },
      "execution_count": 249,
      "outputs": [
        {
          "output_type": "stream",
          "name": "stdout",
          "text": [
            "[[7 7 7 7 7]\n",
            " [7 7 7 7 7]\n",
            " [7 7 7 7 7]\n",
            " [7 7 7 7 7]\n",
            " [7 7 7 7 7]]\n"
          ]
        }
      ]
    },
    {
      "cell_type": "code",
      "source": [
        " # Create a 4X4 identity matrix"
      ],
      "metadata": {
        "id": "ccZWGrWOVNLL"
      },
      "execution_count": 250,
      "outputs": []
    },
    {
      "cell_type": "code",
      "source": [
        "d = np.eye(4)       \n",
        "print(d)"
      ],
      "metadata": {
        "colab": {
          "base_uri": "https://localhost:8080/"
        },
        "id": "o77cF5woTy7U",
        "outputId": "21ec19ef-038b-46a3-a111-6626c30b4100"
      },
      "execution_count": 251,
      "outputs": [
        {
          "output_type": "stream",
          "name": "stdout",
          "text": [
            "[[1. 0. 0. 0.]\n",
            " [0. 1. 0. 0.]\n",
            " [0. 0. 1. 0.]\n",
            " [0. 0. 0. 1.]]\n"
          ]
        }
      ]
    },
    {
      "cell_type": "markdown",
      "source": [
        "# Create an array filled with random values"
      ],
      "metadata": {
        "id": "mW4h9iYnV1_S"
      }
    },
    {
      "cell_type": "code",
      "source": [
        "e = np.random.random((3,3)) \n",
        "print(e)"
      ],
      "metadata": {
        "colab": {
          "base_uri": "https://localhost:8080/"
        },
        "id": "tKj9kOWrTzAH",
        "outputId": "0c8be212-6382-49ab-c8b5-4fddae9e8bbe"
      },
      "execution_count": 252,
      "outputs": [
        {
          "output_type": "stream",
          "name": "stdout",
          "text": [
            "[[0.37684841 0.62897359 0.19464253]\n",
            " [0.7122146  0.29573283 0.09133192]\n",
            " [0.76805442 0.94117019 0.09984027]]\n"
          ]
        }
      ]
    },
    {
      "cell_type": "markdown",
      "source": [
        "# Data type objects (dtype)"
      ],
      "metadata": {
        "id": "XBGoRB49Wlax"
      }
    },
    {
      "cell_type": "markdown",
      "source": [
        "* A data type object (an instance of numpy.dtype class) describes how the bytes in the fixed-size block of memory corresponding to an array item should be interpreted.[For More Details Please Check](https://numpy.org/doc/stable/reference/arrays.dtypes.html)\n",
        "\n",
        "\n",
        "\n"
      ],
      "metadata": {
        "id": "7ugplqp-WUSb"
      }
    },
    {
      "cell_type": "code",
      "source": [
        "x = np.array([1, 2])  # Let numpy choose the datatype\n",
        "y = np.array([1.0, 2.0])  # Let numpy choose the datatype\n",
        "z = np.array([1, 2], dtype=np.int64)  # Force a particular datatype\n",
        "\n",
        "print(x.dtype, y.dtype, z.dtype)"
      ],
      "metadata": {
        "colab": {
          "base_uri": "https://localhost:8080/"
        },
        "id": "REFuTd55TzDm",
        "outputId": "a0d32341-06dc-47fc-d12a-fdbf685ab406"
      },
      "execution_count": 253,
      "outputs": [
        {
          "output_type": "stream",
          "name": "stdout",
          "text": [
            "int64 float64 int64\n"
          ]
        }
      ]
    },
    {
      "cell_type": "code",
      "source": [
        "x = np.array([[1,2],[3,4]], dtype=np.float64)\n",
        "y = np.array([[5,6],[7,8]], dtype=np.float64)\n",
        "print(x+y)"
      ],
      "metadata": {
        "colab": {
          "base_uri": "https://localhost:8080/"
        },
        "id": "ESG8nugSTsv3",
        "outputId": "0991b2d3-ee77-4637-92fa-d8594277d8fd"
      },
      "execution_count": 254,
      "outputs": [
        {
          "output_type": "stream",
          "name": "stdout",
          "text": [
            "[[ 6.  8.]\n",
            " [10. 12.]]\n"
          ]
        }
      ]
    },
    {
      "cell_type": "code",
      "source": [
        "print(np.add(x, y))"
      ],
      "metadata": {
        "colab": {
          "base_uri": "https://localhost:8080/"
        },
        "id": "OenJ-0ZfTszs",
        "outputId": "060b0126-7a62-4ea3-d6b5-70bd5ff12f90"
      },
      "execution_count": 255,
      "outputs": [
        {
          "output_type": "stream",
          "name": "stdout",
          "text": [
            "[[ 6.  8.]\n",
            " [10. 12.]]\n"
          ]
        }
      ]
    },
    {
      "cell_type": "markdown",
      "source": [
        "#  Elementwise difference; both produce the array"
      ],
      "metadata": {
        "id": "oDK4JIzGAHV2"
      }
    },
    {
      "cell_type": "code",
      "source": [
        "z=x-y\n",
        "print(z)\n",
        "print(type(z))"
      ],
      "metadata": {
        "id": "ISu5HhtzW-U9",
        "colab": {
          "base_uri": "https://localhost:8080/"
        },
        "outputId": "77ca7829-542e-47e6-88b7-af732ec2c882"
      },
      "execution_count": 256,
      "outputs": [
        {
          "output_type": "stream",
          "name": "stdout",
          "text": [
            "[[-4. -4.]\n",
            " [-4. -4.]]\n",
            "<class 'numpy.ndarray'>\n"
          ]
        }
      ]
    },
    {
      "cell_type": "code",
      "source": [
        "print(np.subtract(x, y))"
      ],
      "metadata": {
        "id": "affw6PRlW-QW",
        "colab": {
          "base_uri": "https://localhost:8080/"
        },
        "outputId": "53794729-7c3c-480a-acce-e3514365ee01"
      },
      "execution_count": 257,
      "outputs": [
        {
          "output_type": "stream",
          "name": "stdout",
          "text": [
            "[[-4. -4.]\n",
            " [-4. -4.]]\n"
          ]
        }
      ]
    },
    {
      "cell_type": "markdown",
      "source": [
        "# Elementwise product; both produce the array"
      ],
      "metadata": {
        "id": "MvhsiVJCAeE7"
      }
    },
    {
      "cell_type": "code",
      "source": [
        "print(x * y)\n",
        "print(np.multiply(x, y))"
      ],
      "metadata": {
        "id": "85AcqsgNW-LS",
        "colab": {
          "base_uri": "https://localhost:8080/"
        },
        "outputId": "222f3875-b91a-4a9e-b0c3-c24099141dc2"
      },
      "execution_count": 258,
      "outputs": [
        {
          "output_type": "stream",
          "name": "stdout",
          "text": [
            "[[ 5. 12.]\n",
            " [21. 32.]]\n",
            "[[ 5. 12.]\n",
            " [21. 32.]]\n"
          ]
        }
      ]
    },
    {
      "cell_type": "markdown",
      "source": [
        "# Elementwise division; both produce the array"
      ],
      "metadata": {
        "id": "QB3zyQEtA2K3"
      }
    },
    {
      "cell_type": "code",
      "source": [
        "\n",
        "# [[ 0.2         0.33333333]\n",
        "#  [ 0.42857143  0.5       ]]\n",
        "print(x / y)\n",
        "print(np.divide(x, y))"
      ],
      "metadata": {
        "colab": {
          "base_uri": "https://localhost:8080/"
        },
        "id": "wZ5U14d-AiVz",
        "outputId": "1feb8d00-499b-47f3-bdc2-fc715fbbbc63"
      },
      "execution_count": 259,
      "outputs": [
        {
          "output_type": "stream",
          "name": "stdout",
          "text": [
            "[[0.2        0.33333333]\n",
            " [0.42857143 0.5       ]]\n",
            "[[0.2        0.33333333]\n",
            " [0.42857143 0.5       ]]\n"
          ]
        }
      ]
    },
    {
      "cell_type": "markdown",
      "source": [
        "# Elementwise square root; produces the array"
      ],
      "metadata": {
        "id": "dyp2HEAWAwgY"
      }
    },
    {
      "cell_type": "code",
      "source": [
        "\n",
        "# [[ 1.          1.41421356]\n",
        "#  [ 1.73205081  2.        ]]\n",
        "print(np.sqrt(x))"
      ],
      "metadata": {
        "colab": {
          "base_uri": "https://localhost:8080/"
        },
        "id": "bSfhnzneAiRd",
        "outputId": "0436e585-8b85-49eb-bc9c-787b3821ebb9"
      },
      "execution_count": 260,
      "outputs": [
        {
          "output_type": "stream",
          "name": "stdout",
          "text": [
            "[[1.         1.41421356]\n",
            " [1.73205081 2.        ]]\n"
          ]
        }
      ]
    },
    {
      "cell_type": "markdown",
      "source": [
        " # **Important Note**"
      ],
      "metadata": {
        "id": "ht2EGiC4BVNU"
      }
    },
    {
      "cell_type": "markdown",
      "source": [
        "*  `*` is elementwise multiplication, not matrix multiplication. **We instead use the dot function to compute inner products of vectors, to multiply a vector by a matrix, and to multiply matrices.** dot is available both as a function in the numpy module and as an instance method of array objects:"
      ],
      "metadata": {
        "id": "qzQsVK3qBXln"
      }
    },
    {
      "cell_type": "markdown",
      "source": [
        "``` (9 * 11) + (10 * 12) = 99 + 120 = 219```"
      ],
      "metadata": {
        "id": "4s2cTv28HrMz"
      }
    },
    {
      "cell_type": "code",
      "source": [
        "x = np.array([[1,2],[3,4]])\n",
        "y = np.array([[5,6],[7,8]])\n",
        "\n",
        "v = np.array([9,10])\n",
        "w = np.array([11, 12])\n",
        "\n",
        "# Inner product of vectors; both produce 219\n",
        "print(v.dot(w))\n",
        "print(np.dot(v, w))"
      ],
      "metadata": {
        "colab": {
          "base_uri": "https://localhost:8080/"
        },
        "id": "E0jgJb2cAiM7",
        "outputId": "d7aca02d-3ae0-463e-848d-fb08cc972010"
      },
      "execution_count": 261,
      "outputs": [
        {
          "output_type": "stream",
          "name": "stdout",
          "text": [
            "219\n",
            "219\n"
          ]
        }
      ]
    },
    {
      "cell_type": "markdown",
      "source": [
        "**You can also use the @ operator which is equivalent to numpy's dot operator.**"
      ],
      "metadata": {
        "id": "NraQTT80H2hw"
      }
    },
    {
      "cell_type": "code",
      "source": [
        "print(v @ w)"
      ],
      "metadata": {
        "colab": {
          "base_uri": "https://localhost:8080/"
        },
        "id": "yF1oaIpJAh2X",
        "outputId": "5f1f4422-b4ef-44af-b1c8-0bb444c4b1d0"
      },
      "execution_count": 262,
      "outputs": [
        {
          "output_type": "stream",
          "name": "stdout",
          "text": [
            "219\n"
          ]
        }
      ]
    },
    {
      "cell_type": "markdown",
      "source": [
        "```c[0][0] = a[0][0] * b[0][0] + a[0][1] * b[1][0]\\\n",
        "        = 1 * 4 + 2 * 2\n",
        "        = 8```"
      ],
      "metadata": {
        "id": "cTfcw7O3H_AW"
      }
    },
    {
      "cell_type": "markdown",
      "source": [
        "```c[1][0] = a[1][0] * b[0][0] + a[1][1] * b[1][0]\n",
        "        = 4 * 4 + 1 * 2\n",
        "        = 16 + 2\n",
        "        = 18```"
      ],
      "metadata": {
        "id": "tR1f4l-2I0h8"
      }
    },
    {
      "cell_type": "markdown",
      "source": [
        "```c[0][1] = a[0][0] * b[0][1] + a[0][1] * b[1][1]\n",
        "        = 1 * 11 + 2 * 3\n",
        "        = 11 + 6\n",
        "        = 17```"
      ],
      "metadata": {
        "id": "x_t2e2dKIvEC"
      }
    },
    {
      "cell_type": "markdown",
      "source": [
        "```c[1][1] = a[1][0] * b[0][1] + a[1][1] * b[1][1]```\n",
        "        ```= 4 * 11 + 1 * 3```\n",
        "        ```= 44 + 3```\n",
        "        ```= 47```\n"
      ],
      "metadata": {
        "id": "8pb-NQijJHfJ"
      }
    },
    {
      "cell_type": "code",
      "source": [
        "a = [[1, 2], [4, 1]]  \n",
        "b = [[4, 11], [2, 3]]  \n",
        "c=np.dot(a, b)  \n",
        "c  "
      ],
      "metadata": {
        "colab": {
          "base_uri": "https://localhost:8080/"
        },
        "id": "zw4IjDPdAhyt",
        "outputId": "f1dc0212-2602-4770-f8fb-d7e6e2e88da8"
      },
      "execution_count": 263,
      "outputs": [
        {
          "output_type": "execute_result",
          "data": {
            "text/plain": [
              "array([[ 8, 17],\n",
              "       [18, 47]])"
            ]
          },
          "metadata": {},
          "execution_count": 263
        }
      ]
    },
    {
      "cell_type": "code",
      "source": [
        "# Matrix / vector product; both produce the rank 1 array [29 67]\n",
        "print(x.dot(v))\n",
        "print(np.dot(x, v))\n",
        "print(x @ v)"
      ],
      "metadata": {
        "colab": {
          "base_uri": "https://localhost:8080/"
        },
        "id": "YJdvywCzAhu8",
        "outputId": "22300c86-cdb7-421f-f42f-fbe08e14a80c"
      },
      "execution_count": 264,
      "outputs": [
        {
          "output_type": "stream",
          "name": "stdout",
          "text": [
            "[29 67]\n",
            "[29 67]\n",
            "[29 67]\n"
          ]
        }
      ]
    },
    {
      "cell_type": "code",
      "source": [
        "# Matrix / matrix product; both produce the rank 2 array\n",
        "# [[19 22]\n",
        "#  [43 50]]\n",
        "print(x.dot(y))\n",
        "print(np.dot(x, y))\n",
        "print(x @ y)"
      ],
      "metadata": {
        "colab": {
          "base_uri": "https://localhost:8080/"
        },
        "id": "Cm6vJhgWAhq_",
        "outputId": "0a91b9ef-29dd-4293-8175-0fd7a91511b1"
      },
      "execution_count": 265,
      "outputs": [
        {
          "output_type": "stream",
          "name": "stdout",
          "text": [
            "[[19 22]\n",
            " [43 50]]\n",
            "[[19 22]\n",
            " [43 50]]\n",
            "[[19 22]\n",
            " [43 50]]\n"
          ]
        }
      ]
    },
    {
      "cell_type": "markdown",
      "source": [
        "> Numpy provides many useful functions for performing computations on arrays; one of the most useful is **`sum`**:"
      ],
      "metadata": {
        "id": "L716S5ZBJoYf"
      }
    },
    {
      "cell_type": "code",
      "source": [
        "x = np.array([[1,2],[3,4]])\n",
        "\n",
        "print(np.sum(x))  \n",
        "print(np.sum(x, axis=0))  \n",
        "print(np.sum(x, axis=1)) "
      ],
      "metadata": {
        "colab": {
          "base_uri": "https://localhost:8080/"
        },
        "id": "e2IJPb-uAhnU",
        "outputId": "33614034-4425-41b2-d0db-72a58c714c91"
      },
      "execution_count": 266,
      "outputs": [
        {
          "output_type": "stream",
          "name": "stdout",
          "text": [
            "10\n",
            "[4 6]\n",
            "[3 7]\n"
          ]
        }
      ]
    },
    {
      "cell_type": "markdown",
      "source": [
        "You can find the full list of mathematical functions provided by numpy in the [documentation](http://docs.scipy.org/doc/numpy/reference/routines.math.html).\n",
        "\n",
        "Apart from computing mathematical functions using arrays, we frequently need to reshape or otherwise manipulate data in arrays. The simplest example of this type of operation is transposing a matrix; to transpose a matrix, simply use the T attribute of an array object:"
      ],
      "metadata": {
        "id": "1AH0Kd2lLB_i"
      }
    },
    {
      "cell_type": "code",
      "source": [
        "print(x)\n"
      ],
      "metadata": {
        "id": "hIW27kcsAhiO",
        "colab": {
          "base_uri": "https://localhost:8080/"
        },
        "outputId": "5b307489-56ba-4b96-8550-19d39f0e6a0e"
      },
      "execution_count": 267,
      "outputs": [
        {
          "output_type": "stream",
          "name": "stdout",
          "text": [
            "[[1 2]\n",
            " [3 4]]\n"
          ]
        }
      ]
    },
    {
      "cell_type": "code",
      "source": [
        "print(\"transpose\\n\", x.T)"
      ],
      "metadata": {
        "id": "bnD79rttAheu",
        "colab": {
          "base_uri": "https://localhost:8080/"
        },
        "outputId": "48467c17-f48f-48c0-d2b8-07831ad2e242"
      },
      "execution_count": 268,
      "outputs": [
        {
          "output_type": "stream",
          "name": "stdout",
          "text": [
            "transpose\n",
            " [[1 3]\n",
            " [2 4]]\n"
          ]
        }
      ]
    },
    {
      "cell_type": "code",
      "source": [
        "x = np.array([1, 2, 3])\n",
        "print(x)"
      ],
      "metadata": {
        "id": "6T0pq-S2AhX8",
        "colab": {
          "base_uri": "https://localhost:8080/"
        },
        "outputId": "90580a4b-8b59-406b-d9fd-3d68042399c7"
      },
      "execution_count": 269,
      "outputs": [
        {
          "output_type": "stream",
          "name": "stdout",
          "text": [
            "[1 2 3]\n"
          ]
        }
      ]
    },
    {
      "cell_type": "markdown",
      "source": [
        "# example of vector operation"
      ],
      "metadata": {
        "id": "9ocds_z15-PA"
      }
    },
    {
      "cell_type": "code",
      "source": [
        "\n",
        "x = np.array([1, 2, 3])\n",
        "print (x + 3)"
      ],
      "metadata": {
        "id": "kLgWNSXqAhTh",
        "colab": {
          "base_uri": "https://localhost:8080/"
        },
        "outputId": "b4954867-592f-4843-cd1f-1ab28b2f79e0"
      },
      "execution_count": 270,
      "outputs": [
        {
          "output_type": "stream",
          "name": "stdout",
          "text": [
            "[4 5 6]\n"
          ]
        }
      ]
    },
    {
      "cell_type": "markdown",
      "source": [
        "* In fact, if  x=(x1,x2,...,xn)  is a row vector then  np.exp(x)  will apply the exponential function to every element of x. The output will thus be:  np.exp(x)=(ex1,ex2,...,exn)"
      ],
      "metadata": {
        "id": "LPLeYgUy6D_q"
      }
    },
    {
      "cell_type": "code",
      "source": [
        "x = np.array([1, 2, 3])\n",
        "print(np.exp(x))"
      ],
      "metadata": {
        "id": "VzJY5b6zAhPz",
        "colab": {
          "base_uri": "https://localhost:8080/"
        },
        "outputId": "8435ed28-9835-48da-89ae-63f4978e739b"
      },
      "execution_count": 271,
      "outputs": [
        {
          "output_type": "stream",
          "name": "stdout",
          "text": [
            "[ 2.71828183  7.3890561  20.08553692]\n"
          ]
        }
      ]
    },
    {
      "cell_type": "markdown",
      "source": [
        "## Introduction to Tensors\n",
        "\n",
        "A **PyTorch Tensor** is basically the same as a numpy array: it does not know anything about deep learning or computational graphs or gradients, and is just a generic **n-dimensional array** to be used for arbitrary **numeric computation**.\n",
        "\n",
        "The biggest difference between a numpy array and a PyTorch Tensor is that a **PyTorch Tensor can run on either CPU or GPU**. To run operations on the GPU, **just cast the Tensor to a cuda datatype**.\n",
        "\n",
        "\n",
        "A scalar is **zero-order tensor** or rank zero tensor. A vector is a **one-dimensional** or first order tensor, and a matrix is a **two-dimensional** or second order tensor. \n",
        "\n",
        "\n",
        "\n",
        "<div align=\"center\">\n",
        "<img src=\"https://drive.google.com/uc?id=1pka-LVyrq_7r0sCm59cvOQofEYAcnO4r\" width=\"550\">\n",
        "</div>\n",
        "\n",
        "<div align=\"center\">\n",
        "<img src=\"https://drive.google.com/uc?id=1zHT5CGzIgpe1aLkdawrllTMn74nYVeAp\" width=\"550\">\n",
        "</div>\n",
        "\n"
      ],
      "metadata": {
        "id": "3iHcFPXB6tk1"
      }
    },
    {
      "cell_type": "markdown",
      "source": [
        "A [torch.Tensor](https://pytorch.org/docs/stable/tensors.html) is a **multi-dimensional matrix** containing elements of a **single data type**.\n",
        "\n",
        "`torch.Tensor` is an alias for the default tensor type (`torch.FloatTensor`)."
      ],
      "metadata": {
        "id": "_DHpv2wS663c"
      }
    },
    {
      "cell_type": "code",
      "source": [
        "torch.tensor([[1., -1.], [1., -1.]])"
      ],
      "metadata": {
        "colab": {
          "base_uri": "https://localhost:8080/"
        },
        "id": "eg1UQk_G682S",
        "outputId": "5beb2f76-4911-41b3-d2c1-00ca0a11fa4b"
      },
      "execution_count": 272,
      "outputs": [
        {
          "output_type": "execute_result",
          "data": {
            "text/plain": [
              "tensor([[ 1., -1.],\n",
              "        [ 1., -1.]])"
            ]
          },
          "metadata": {},
          "execution_count": 272
        }
      ]
    },
    {
      "cell_type": "code",
      "source": [
        "x = torch.rand(5, 3)\n",
        "print(x)"
      ],
      "metadata": {
        "colab": {
          "base_uri": "https://localhost:8080/"
        },
        "id": "MVGXzXrf68rr",
        "outputId": "09a94a2f-fd35-409a-9a60-30793ad58c83"
      },
      "execution_count": 273,
      "outputs": [
        {
          "output_type": "stream",
          "name": "stdout",
          "text": [
            "tensor([[0.2629, 0.9756, 0.2783],\n",
            "        [0.6633, 0.2972, 0.4155],\n",
            "        [0.5341, 0.4030, 0.4315],\n",
            "        [0.4384, 0.8417, 0.4628],\n",
            "        [0.1458, 0.7584, 0.9383]])\n"
          ]
        }
      ]
    },
    {
      "cell_type": "code",
      "source": [
        "type(x)"
      ],
      "metadata": {
        "colab": {
          "base_uri": "https://localhost:8080/"
        },
        "id": "m_KQ65vn7PjD",
        "outputId": "86b2a604-dfe6-4e73-ef5d-9cd929d537f2"
      },
      "execution_count": 274,
      "outputs": [
        {
          "output_type": "execute_result",
          "data": {
            "text/plain": [
              "torch.Tensor"
            ]
          },
          "metadata": {},
          "execution_count": 274
        }
      ]
    },
    {
      "cell_type": "code",
      "source": [
        "torch.tensor(np.array([[1, 2, 3], [4, 5, 6]]))"
      ],
      "metadata": {
        "colab": {
          "base_uri": "https://localhost:8080/"
        },
        "id": "DTqF6cFm68lA",
        "outputId": "34ffd278-4b53-4385-8110-b1c30cf78b1c"
      },
      "execution_count": 275,
      "outputs": [
        {
          "output_type": "execute_result",
          "data": {
            "text/plain": [
              "tensor([[1, 2, 3],\n",
              "        [4, 5, 6]])"
            ]
          },
          "metadata": {},
          "execution_count": 275
        }
      ]
    },
    {
      "cell_type": "markdown",
      "source": [
        "# Converting numpy arrays to tensors"
      ],
      "metadata": {
        "id": "Z2gx5Cqs7YZG"
      }
    },
    {
      "cell_type": "code",
      "source": [
        "\n",
        "np_values = np.array([[1, 2, 3], [4, 5, 6]])\n",
        "\n",
        "tensor_values = torch.from_numpy(np_values)\n",
        "\n",
        "print (tensor_values)"
      ],
      "metadata": {
        "colab": {
          "base_uri": "https://localhost:8080/"
        },
        "id": "k-1Wc97m68dc",
        "outputId": "350f7397-0d9d-4865-a0de-97aab43d1cfb"
      },
      "execution_count": 276,
      "outputs": [
        {
          "output_type": "stream",
          "name": "stdout",
          "text": [
            "tensor([[1, 2, 3],\n",
            "        [4, 5, 6]])\n"
          ]
        }
      ]
    },
    {
      "cell_type": "code",
      "source": [
        "torch.zeros([2, 4], dtype=torch.int32)"
      ],
      "metadata": {
        "id": "p4Agea-LAhMV",
        "colab": {
          "base_uri": "https://localhost:8080/"
        },
        "outputId": "7adf8ba6-0379-4d14-bae0-a01004b78d21"
      },
      "execution_count": 277,
      "outputs": [
        {
          "output_type": "execute_result",
          "data": {
            "text/plain": [
              "tensor([[0, 0, 0, 0],\n",
              "        [0, 0, 0, 0]], dtype=torch.int32)"
            ]
          },
          "metadata": {},
          "execution_count": 277
        }
      ]
    },
    {
      "cell_type": "markdown",
      "source": [
        "# The contents of a tensor can be accessed and modified using Python’s indexing and slicing notation:"
      ],
      "metadata": {
        "id": "pZy0ghCk7vOj"
      }
    },
    {
      "cell_type": "code",
      "source": [
        "\n",
        "x = torch.tensor([[1, 2, 3], [4, 5, 6]])\n",
        "print(x[1][2])\n",
        "\n"
      ],
      "metadata": {
        "colab": {
          "base_uri": "https://localhost:8080/"
        },
        "id": "nPy_XzOI7bBx",
        "outputId": "d8a62f7f-04a8-4bdd-f1bc-d6e8d2757456"
      },
      "execution_count": 278,
      "outputs": [
        {
          "output_type": "stream",
          "name": "stdout",
          "text": [
            "tensor(6)\n"
          ]
        }
      ]
    },
    {
      "cell_type": "code",
      "source": [
        "# Modify a certain element\n",
        "x[0][1] = 8\n",
        "print(x)"
      ],
      "metadata": {
        "colab": {
          "base_uri": "https://localhost:8080/"
        },
        "id": "uL6GGtCI7bKz",
        "outputId": "e9e4a7d0-cfc9-44bd-a557-06b526cfc80a"
      },
      "execution_count": 279,
      "outputs": [
        {
          "output_type": "stream",
          "name": "stdout",
          "text": [
            "tensor([[1, 8, 3],\n",
            "        [4, 5, 6]])\n"
          ]
        }
      ]
    },
    {
      "cell_type": "markdown",
      "source": [
        "# Use torch.Tensor.item() to get a Python number from a tensor containing a single value"
      ],
      "metadata": {
        "id": "_HW7A3bd8Dl8"
      }
    },
    {
      "cell_type": "code",
      "source": [
        "x = torch.tensor([[1]])\n",
        "print (x)"
      ],
      "metadata": {
        "colab": {
          "base_uri": "https://localhost:8080/"
        },
        "id": "-9drbpOx7bP2",
        "outputId": "968097e1-e836-4653-b95b-edf3c132cde8"
      },
      "execution_count": 280,
      "outputs": [
        {
          "output_type": "stream",
          "name": "stdout",
          "text": [
            "tensor([[1]])\n"
          ]
        }
      ]
    },
    {
      "cell_type": "code",
      "source": [
        "print(x.item())"
      ],
      "metadata": {
        "colab": {
          "base_uri": "https://localhost:8080/"
        },
        "id": "hXZ9O1CZ7bTY",
        "outputId": "c187c17e-01de-4130-a88e-77c783da0ede"
      },
      "execution_count": 281,
      "outputs": [
        {
          "output_type": "stream",
          "name": "stdout",
          "text": [
            "1\n"
          ]
        }
      ]
    },
    {
      "cell_type": "code",
      "source": [
        "x = torch.tensor(2.5)\n",
        "\n",
        "print(x.item())"
      ],
      "metadata": {
        "colab": {
          "base_uri": "https://localhost:8080/"
        },
        "id": "SeMOrc8d7bXL",
        "outputId": "37303fd4-0f8c-4c4b-e941-0146a2471454"
      },
      "execution_count": 282,
      "outputs": [
        {
          "output_type": "stream",
          "name": "stdout",
          "text": [
            "2.5\n"
          ]
        }
      ]
    },
    {
      "cell_type": "code",
      "source": [
        "x = torch.tensor([[1, 2, 3], [4, 5, 6]])\n",
        "print(x.size())"
      ],
      "metadata": {
        "colab": {
          "base_uri": "https://localhost:8080/"
        },
        "id": "aScfjF4x7bap",
        "outputId": "8b16ff4e-9749-4018-b6e1-648843cc831a"
      },
      "execution_count": 283,
      "outputs": [
        {
          "output_type": "stream",
          "name": "stdout",
          "text": [
            "torch.Size([2, 3])\n"
          ]
        }
      ]
    },
    {
      "cell_type": "markdown",
      "source": [
        "# Tensor addition & subtraction"
      ],
      "metadata": {
        "id": "dYSiliP69Ao-"
      }
    },
    {
      "cell_type": "code",
      "source": [
        "\n",
        "x = torch.rand(5, 3)\n",
        "y = torch.rand(5, 3)"
      ],
      "metadata": {
        "id": "YtrAVgGP7bex"
      },
      "execution_count": 284,
      "outputs": []
    },
    {
      "cell_type": "code",
      "source": [
        "\n",
        "print(x)"
      ],
      "metadata": {
        "colab": {
          "base_uri": "https://localhost:8080/"
        },
        "id": "4GZO8yto7bh6",
        "outputId": "5820847c-bafd-49e2-c4fb-5404729b9e54"
      },
      "execution_count": 285,
      "outputs": [
        {
          "output_type": "stream",
          "name": "stdout",
          "text": [
            "tensor([[0.1155, 0.7676, 0.8324],\n",
            "        [0.5395, 0.3511, 0.5068],\n",
            "        [0.7069, 0.1097, 0.5192],\n",
            "        [0.8853, 0.3837, 0.6741],\n",
            "        [0.9131, 0.2052, 0.8537]])\n"
          ]
        }
      ]
    },
    {
      "cell_type": "code",
      "source": [
        "\n",
        "print(y)"
      ],
      "metadata": {
        "colab": {
          "base_uri": "https://localhost:8080/"
        },
        "id": "fxHt-4E97blG",
        "outputId": "1b7f8085-d9a9-432e-e62a-7f916657c6dc"
      },
      "execution_count": 286,
      "outputs": [
        {
          "output_type": "stream",
          "name": "stdout",
          "text": [
            "tensor([[0.0584, 0.8141, 0.2025],\n",
            "        [0.0467, 0.3085, 0.5483],\n",
            "        [0.3207, 0.1005, 0.3950],\n",
            "        [0.9568, 0.7944, 0.9205],\n",
            "        [0.1728, 0.5984, 0.5382]])\n"
          ]
        }
      ]
    },
    {
      "cell_type": "code",
      "source": [
        "print(x + y)"
      ],
      "metadata": {
        "colab": {
          "base_uri": "https://localhost:8080/"
        },
        "id": "-eRNC3SO7bpA",
        "outputId": "1a4e9855-938f-433d-dc49-81d05e9d9721"
      },
      "execution_count": 287,
      "outputs": [
        {
          "output_type": "stream",
          "name": "stdout",
          "text": [
            "tensor([[0.1739, 1.5816, 1.0349],\n",
            "        [0.5862, 0.6597, 1.0551],\n",
            "        [1.0276, 0.2102, 0.9142],\n",
            "        [1.8421, 1.1781, 1.5946],\n",
            "        [1.0859, 0.8036, 1.3919]])\n"
          ]
        }
      ]
    },
    {
      "cell_type": "code",
      "source": [
        "print(x - y)"
      ],
      "metadata": {
        "colab": {
          "base_uri": "https://localhost:8080/"
        },
        "id": "RKqi6k6k7bsx",
        "outputId": "9be07360-17b6-44f4-f3b8-2d4ac2ea4b87"
      },
      "execution_count": 288,
      "outputs": [
        {
          "output_type": "stream",
          "name": "stdout",
          "text": [
            "tensor([[ 0.0572, -0.0465,  0.6299],\n",
            "        [ 0.4928,  0.0426, -0.0416],\n",
            "        [ 0.3863,  0.0093,  0.1243],\n",
            "        [-0.0715, -0.4107, -0.2463],\n",
            "        [ 0.7404, -0.3932,  0.3154]])\n"
          ]
        }
      ]
    },
    {
      "cell_type": "code",
      "source": [
        "m=torch.tensor([[1,2,3,4],[5,6,7,8]])\n",
        "n=torch.tensor([[1,2,3,4],[5,6,7,8]])\n"
      ],
      "metadata": {
        "id": "5UAqD1ur7bw4"
      },
      "execution_count": 289,
      "outputs": []
    },
    {
      "cell_type": "code",
      "source": [
        "m+n"
      ],
      "metadata": {
        "colab": {
          "base_uri": "https://localhost:8080/"
        },
        "id": "yCcp18Ga7b2t",
        "outputId": "f1cd4a8a-6647-481a-c802-dd93a86eeba4"
      },
      "execution_count": 290,
      "outputs": [
        {
          "output_type": "execute_result",
          "data": {
            "text/plain": [
              "tensor([[ 2,  4,  6,  8],\n",
              "        [10, 12, 14, 16]])"
            ]
          },
          "metadata": {},
          "execution_count": 290
        }
      ]
    },
    {
      "cell_type": "markdown",
      "source": [
        "# Syntax 2 for Tensor addition & subtraction in PyTorch"
      ],
      "metadata": {
        "id": "MSMqyQuBaYPK"
      }
    },
    {
      "cell_type": "code",
      "source": [
        "print(torch.add(x, y))\n",
        "print(torch.sub(x, y))"
      ],
      "metadata": {
        "colab": {
          "base_uri": "https://localhost:8080/"
        },
        "id": "L4v5I8Ty7b5v",
        "outputId": "1c528e33-e0d8-4a36-a4b7-dd60532bbccd"
      },
      "execution_count": 291,
      "outputs": [
        {
          "output_type": "stream",
          "name": "stdout",
          "text": [
            "tensor([[0.1739, 1.5816, 1.0349],\n",
            "        [0.5862, 0.6597, 1.0551],\n",
            "        [1.0276, 0.2102, 0.9142],\n",
            "        [1.8421, 1.1781, 1.5946],\n",
            "        [1.0859, 0.8036, 1.3919]])\n",
            "tensor([[ 0.0572, -0.0465,  0.6299],\n",
            "        [ 0.4928,  0.0426, -0.0416],\n",
            "        [ 0.3863,  0.0093,  0.1243],\n",
            "        [-0.0715, -0.4107, -0.2463],\n",
            "        [ 0.7404, -0.3932,  0.3154]])\n"
          ]
        }
      ]
    },
    {
      "cell_type": "markdown",
      "source": [
        "# Tensor Product & Transpose"
      ],
      "metadata": {
        "id": "vGF9p2g0akDD"
      }
    },
    {
      "cell_type": "code",
      "source": [
        "mat1 = torch.randn(2, 3)\n",
        "mat2 = torch.randn(3, 3)\n",
        "\n",
        "print(mat1)\n"
      ],
      "metadata": {
        "colab": {
          "base_uri": "https://localhost:8080/"
        },
        "id": "iJv2oNUw7b9w",
        "outputId": "ab00a931-cebd-46db-eb9d-3bf241ddbfca"
      },
      "execution_count": 292,
      "outputs": [
        {
          "output_type": "stream",
          "name": "stdout",
          "text": [
            "tensor([[-0.1347,  0.4235,  0.8328],\n",
            "        [ 1.2167,  0.6766, -0.2158]])\n"
          ]
        }
      ]
    },
    {
      "cell_type": "code",
      "source": [
        "print(mat2)"
      ],
      "metadata": {
        "colab": {
          "base_uri": "https://localhost:8080/"
        },
        "id": "ysBTtG3Q7cA-",
        "outputId": "fa893a3a-4c54-4ea4-d200-e144775e4dd1"
      },
      "execution_count": 293,
      "outputs": [
        {
          "output_type": "stream",
          "name": "stdout",
          "text": [
            "tensor([[-0.5954,  1.0230, -0.4423],\n",
            "        [ 0.4278, -0.0112,  1.4343],\n",
            "        [ 1.4000,  0.6884,  0.9171]])\n"
          ]
        }
      ]
    },
    {
      "cell_type": "code",
      "source": [
        "\n",
        "print(torch.mm(mat1, mat2))"
      ],
      "metadata": {
        "colab": {
          "base_uri": "https://localhost:8080/"
        },
        "id": "76zzrIwXapoh",
        "outputId": "51ed6560-d47c-4876-fba6-1690617f6609"
      },
      "execution_count": 294,
      "outputs": [
        {
          "output_type": "stream",
          "name": "stdout",
          "text": [
            "tensor([[ 1.4274,  0.4308,  1.4308],\n",
            "        [-0.7371,  1.0886,  0.2345]])\n"
          ]
        }
      ]
    },
    {
      "cell_type": "code",
      "source": [
        "\n",
        "print(mat1.t())"
      ],
      "metadata": {
        "colab": {
          "base_uri": "https://localhost:8080/"
        },
        "id": "cpENcle5apiQ",
        "outputId": "8cec2aef-9397-445d-c000-70e42e1c520a"
      },
      "execution_count": 295,
      "outputs": [
        {
          "output_type": "stream",
          "name": "stdout",
          "text": [
            "tensor([[-0.1347,  1.2167],\n",
            "        [ 0.4235,  0.6766],\n",
            "        [ 0.8328, -0.2158]])\n"
          ]
        }
      ]
    },
    {
      "cell_type": "code",
      "source": [
        "# Elementwise multiplication\n",
        "t = torch.Tensor([[1, 2], [3, 4]])\n",
        "t.mul(t)"
      ],
      "metadata": {
        "colab": {
          "base_uri": "https://localhost:8080/"
        },
        "id": "hXeP5PdFapWC",
        "outputId": "b7e797eb-4ad2-4a0c-a7c0-c4416314a3c6"
      },
      "execution_count": 296,
      "outputs": [
        {
          "output_type": "execute_result",
          "data": {
            "text/plain": [
              "tensor([[ 1.,  4.],\n",
              "        [ 9., 16.]])"
            ]
          },
          "metadata": {},
          "execution_count": 296
        }
      ]
    },
    {
      "cell_type": "code",
      "source": [
        "\n",
        "x = torch.rand(5, 3)\n",
        "\n",
        "print('Tensor shape:', x.shape)   # t.size() gives the same\n",
        "print('Number of dimensions:', x.dim())\n",
        "print('Tensor type:', x.type())"
      ],
      "metadata": {
        "colab": {
          "base_uri": "https://localhost:8080/"
        },
        "id": "Hp7JpmTRapRm",
        "outputId": "a3ab1b10-2290-4125-d5db-8eba3fafb392"
      },
      "execution_count": 297,
      "outputs": [
        {
          "output_type": "stream",
          "name": "stdout",
          "text": [
            "Tensor shape: torch.Size([5, 3])\n",
            "Number of dimensions: 2\n",
            "Tensor type: torch.FloatTensor\n"
          ]
        }
      ]
    },
    {
      "cell_type": "code",
      "source": [
        "# Slicing\n",
        "t = torch.Tensor([[1, 2, 3], [4, 5, 6], [7, 8, 9]])\n",
        "\n",
        "\n",
        "\n",
        "\n",
        "\n"
      ],
      "metadata": {
        "id": "am80VqgrapNJ"
      },
      "execution_count": 298,
      "outputs": []
    },
    {
      "cell_type": "code",
      "source": [
        "t"
      ],
      "metadata": {
        "colab": {
          "base_uri": "https://localhost:8080/"
        },
        "id": "DFxGFAardNcr",
        "outputId": "82d09c47-9376-4c4e-f542-445f9f29ed0d"
      },
      "execution_count": 299,
      "outputs": [
        {
          "output_type": "execute_result",
          "data": {
            "text/plain": [
              "tensor([[1., 2., 3.],\n",
              "        [4., 5., 6.],\n",
              "        [7., 8., 9.]])"
            ]
          },
          "metadata": {},
          "execution_count": 299
        }
      ]
    },
    {
      "cell_type": "code",
      "source": [
        "# Every row, only the last column\n",
        "print(t[:, -1])"
      ],
      "metadata": {
        "colab": {
          "base_uri": "https://localhost:8080/"
        },
        "id": "p_SaNrDhapII",
        "outputId": "4b7dc83f-7edd-41dc-802e-f28e0edadcdc"
      },
      "execution_count": 300,
      "outputs": [
        {
          "output_type": "stream",
          "name": "stdout",
          "text": [
            "tensor([3., 6., 9.])\n"
          ]
        }
      ]
    },
    {
      "cell_type": "code",
      "source": [
        "# First 2 rows, all columns\n",
        "print(t[: 2])"
      ],
      "metadata": {
        "colab": {
          "base_uri": "https://localhost:8080/"
        },
        "id": "zHhDay5ZapED",
        "outputId": "a4a89225-9a64-4f30-b839-eb7e310a1b61"
      },
      "execution_count": 307,
      "outputs": [
        {
          "output_type": "stream",
          "name": "stdout",
          "text": [
            "tensor([[1., 2., 3.],\n",
            "        [4., 5., 6.]])\n"
          ]
        }
      ]
    },
    {
      "cell_type": "code",
      "source": [
        "# Lower right most corner\n",
        "print(t[-1:,-1])"
      ],
      "metadata": {
        "colab": {
          "base_uri": "https://localhost:8080/"
        },
        "id": "OO2-cq-fao_e",
        "outputId": "426ce22e-c65c-4ff4-a15f-001202567374"
      },
      "execution_count": 310,
      "outputs": [
        {
          "output_type": "stream",
          "name": "stdout",
          "text": [
            "tensor([9.])\n"
          ]
        }
      ]
    },
    {
      "cell_type": "code",
      "source": [
        "t[:,2]"
      ],
      "metadata": {
        "colab": {
          "base_uri": "https://localhost:8080/"
        },
        "id": "G-fwcBw-aoys",
        "outputId": "a102f692-ca7a-433d-fdb0-bf45f3618efa"
      },
      "execution_count": 311,
      "outputs": [
        {
          "output_type": "execute_result",
          "data": {
            "text/plain": [
              "tensor([3., 6., 9.])"
            ]
          },
          "metadata": {},
          "execution_count": 311
        }
      ]
    }
  ]
}