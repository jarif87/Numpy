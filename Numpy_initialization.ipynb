{
  "nbformat": 4,
  "nbformat_minor": 0,
  "metadata": {
    "colab": {
      "provenance": []
    },
    "kernelspec": {
      "name": "python3",
      "display_name": "Python 3"
    },
    "language_info": {
      "name": "python"
    }
  },
  "cells": [
    {
      "cell_type": "code",
      "source": [
        "import numpy as np"
      ],
      "metadata": {
        "id": "ZrKnoxS5CPbu"
      },
      "execution_count": null,
      "outputs": []
    },
    {
      "cell_type": "code",
      "execution_count": null,
      "metadata": {
        "id": "jSyOjLsGB-ps"
      },
      "outputs": [],
      "source": [
        "a=np.empty(shape=(3,3))"
      ]
    },
    {
      "cell_type": "code",
      "source": [
        "print(a)"
      ],
      "metadata": {
        "colab": {
          "base_uri": "https://localhost:8080/"
        },
        "id": "VTh-cpZ3CC4S",
        "outputId": "34d5e808-239a-4831-9974-6c1d862bfb07"
      },
      "execution_count": null,
      "outputs": [
        {
          "output_type": "stream",
          "name": "stdout",
          "text": [
            "[[2.19865299e-316 1.77863633e-322 0.00000000e+000]\n",
            " [0.00000000e+000 2.31297541e-312 1.53235071e-047]\n",
            " [3.21430503e-057 5.49416901e-090 9.28206930e-072]]\n"
          ]
        }
      ]
    },
    {
      "cell_type": "code",
      "source": [
        "b=np.empty(shape=(3,3),dtype=\"int\")"
      ],
      "metadata": {
        "id": "X4vgjzReCC_w"
      },
      "execution_count": null,
      "outputs": []
    },
    {
      "cell_type": "code",
      "source": [
        "b"
      ],
      "metadata": {
        "colab": {
          "base_uri": "https://localhost:8080/"
        },
        "id": "-m5kTl78CDFq",
        "outputId": "c7aa143d-0d5b-4024-ce30-a2c5c889be00"
      },
      "execution_count": null,
      "outputs": [
        {
          "output_type": "stream",
          "name": "stdout",
          "text": [
            "[[           44501232                  36                   0]\n",
            " [                  0        468151435264 3906421002484540006]\n",
            " [3761681274641135917 3271410164358264673 3544445495855886896]]\n"
          ]
        }
      ]
    },
    {
      "cell_type": "markdown",
      "source": [
        "# empty like"
      ],
      "metadata": {
        "id": "1qcr_cVrEIVO"
      }
    },
    {
      "cell_type": "code",
      "source": [
        "n=([1,2,3],[4,5,6])"
      ],
      "metadata": {
        "id": "mr_fFnGvCDJ5"
      },
      "execution_count": 14,
      "outputs": []
    },
    {
      "cell_type": "code",
      "source": [
        "np.empty_like(n)"
      ],
      "metadata": {
        "id": "kCetCB-ZCDNl",
        "colab": {
          "base_uri": "https://localhost:8080/"
        },
        "outputId": "01c45980-b140-4ba6-e7b2-f3dad68f935c"
      },
      "execution_count": 15,
      "outputs": [
        {
          "output_type": "execute_result",
          "data": {
            "text/plain": [
              "array([[47171696,        0,        0],\n",
              "       [       0,        0,        0]])"
            ]
          },
          "metadata": {},
          "execution_count": 15
        }
      ]
    },
    {
      "cell_type": "markdown",
      "source": [
        "# np.eye"
      ],
      "metadata": {
        "id": "zo2g-ikMGFOh"
      }
    },
    {
      "cell_type": "code",
      "source": [
        "np.eye(2, dtype=int)"
      ],
      "metadata": {
        "id": "4ACYGQotCDSD",
        "colab": {
          "base_uri": "https://localhost:8080/"
        },
        "outputId": "5831aaef-0ef9-4184-c39a-74d3d45c36d6"
      },
      "execution_count": 16,
      "outputs": [
        {
          "output_type": "execute_result",
          "data": {
            "text/plain": [
              "array([[1, 0],\n",
              "       [0, 1]])"
            ]
          },
          "metadata": {},
          "execution_count": 16
        }
      ]
    },
    {
      "cell_type": "code",
      "source": [
        "np.eye(3, k=1)"
      ],
      "metadata": {
        "id": "hFchDeuvCDVd",
        "colab": {
          "base_uri": "https://localhost:8080/"
        },
        "outputId": "aa84dcc5-1e2c-43e7-8673-8e7dbfbc5cdd"
      },
      "execution_count": 22,
      "outputs": [
        {
          "output_type": "execute_result",
          "data": {
            "text/plain": [
              "array([[0., 1., 0.],\n",
              "       [0., 0., 1.],\n",
              "       [0., 0., 0.]])"
            ]
          },
          "metadata": {},
          "execution_count": 22
        }
      ]
    },
    {
      "cell_type": "markdown",
      "source": [
        "# np.ones"
      ],
      "metadata": {
        "id": "GPjCpCAuHE_8"
      }
    },
    {
      "cell_type": "code",
      "source": [
        "np.ones(5)"
      ],
      "metadata": {
        "id": "vp1wz2s7CDZS",
        "colab": {
          "base_uri": "https://localhost:8080/"
        },
        "outputId": "e12f3251-96bd-4a19-e13f-7040ba32ee35"
      },
      "execution_count": 23,
      "outputs": [
        {
          "output_type": "execute_result",
          "data": {
            "text/plain": [
              "array([1., 1., 1., 1., 1.])"
            ]
          },
          "metadata": {},
          "execution_count": 23
        }
      ]
    },
    {
      "cell_type": "code",
      "source": [
        "np.ones((5,2,2), dtype=int)"
      ],
      "metadata": {
        "id": "EFPDFW24CDcr",
        "colab": {
          "base_uri": "https://localhost:8080/"
        },
        "outputId": "40061941-99e6-40a5-ddbc-f989c2647395"
      },
      "execution_count": 26,
      "outputs": [
        {
          "output_type": "execute_result",
          "data": {
            "text/plain": [
              "array([[[1, 1],\n",
              "        [1, 1]],\n",
              "\n",
              "       [[1, 1],\n",
              "        [1, 1]],\n",
              "\n",
              "       [[1, 1],\n",
              "        [1, 1]],\n",
              "\n",
              "       [[1, 1],\n",
              "        [1, 1]],\n",
              "\n",
              "       [[1, 1],\n",
              "        [1, 1]]])"
            ]
          },
          "metadata": {},
          "execution_count": 26
        }
      ]
    },
    {
      "cell_type": "code",
      "source": [
        "v=np.ones((3,2,4), dtype=int)"
      ],
      "metadata": {
        "id": "RjYdf7rACDhr"
      },
      "execution_count": 32,
      "outputs": []
    },
    {
      "cell_type": "code",
      "source": [
        "v"
      ],
      "metadata": {
        "colab": {
          "base_uri": "https://localhost:8080/"
        },
        "id": "xFOV-uXQJQMK",
        "outputId": "61cebab2-24f1-4977-cefc-36c262c5088f"
      },
      "execution_count": 39,
      "outputs": [
        {
          "output_type": "execute_result",
          "data": {
            "text/plain": [
              "array([[[1, 1, 1, 1],\n",
              "        [1, 1, 1, 1]],\n",
              "\n",
              "       [[1, 1, 1, 1],\n",
              "        [1, 1, 1, 1]],\n",
              "\n",
              "       [[1, 1, 1, 1],\n",
              "        [1, 1, 1, 1]]])"
            ]
          },
          "metadata": {},
          "execution_count": 39
        }
      ]
    },
    {
      "cell_type": "code",
      "source": [
        "v.ndim"
      ],
      "metadata": {
        "id": "t67vdvTiCDmE",
        "colab": {
          "base_uri": "https://localhost:8080/"
        },
        "outputId": "153798e0-86d2-44ce-bcc1-e0238ea7a57d"
      },
      "execution_count": 34,
      "outputs": [
        {
          "output_type": "execute_result",
          "data": {
            "text/plain": [
              "3"
            ]
          },
          "metadata": {},
          "execution_count": 34
        }
      ]
    },
    {
      "cell_type": "markdown",
      "source": [
        "# ones_like"
      ],
      "metadata": {
        "id": "YZwVBqRtIu9y"
      }
    },
    {
      "cell_type": "code",
      "source": [
        "x = np.arange(6)"
      ],
      "metadata": {
        "id": "qHIlcME6CDqC"
      },
      "execution_count": 35,
      "outputs": []
    },
    {
      "cell_type": "code",
      "source": [
        "x = x.reshape((2, 3))"
      ],
      "metadata": {
        "id": "juyMTcGOCDuD"
      },
      "execution_count": 36,
      "outputs": []
    },
    {
      "cell_type": "code",
      "source": [
        "x"
      ],
      "metadata": {
        "id": "GZHyqrLkCD_9",
        "colab": {
          "base_uri": "https://localhost:8080/"
        },
        "outputId": "bc79106e-4828-435c-dd94-31d0395f1834"
      },
      "execution_count": 37,
      "outputs": [
        {
          "output_type": "execute_result",
          "data": {
            "text/plain": [
              "array([[0, 1, 2],\n",
              "       [3, 4, 5]])"
            ]
          },
          "metadata": {},
          "execution_count": 37
        }
      ]
    },
    {
      "cell_type": "code",
      "source": [
        "np.ones_like(x)"
      ],
      "metadata": {
        "colab": {
          "base_uri": "https://localhost:8080/"
        },
        "id": "mZ4hy18KI58q",
        "outputId": "a242ec3a-27f0-4223-c381-0d42c2ce1ff0"
      },
      "execution_count": 38,
      "outputs": [
        {
          "output_type": "execute_result",
          "data": {
            "text/plain": [
              "array([[1, 1, 1],\n",
              "       [1, 1, 1]])"
            ]
          },
          "metadata": {},
          "execution_count": 38
        }
      ]
    },
    {
      "cell_type": "markdown",
      "source": [
        "# np.zeros"
      ],
      "metadata": {
        "id": "WeeFY6LBJbbr"
      }
    },
    {
      "cell_type": "code",
      "source": [
        "np.zeros(5)"
      ],
      "metadata": {
        "colab": {
          "base_uri": "https://localhost:8080/"
        },
        "id": "rXsad3RNI9QD",
        "outputId": "4ab4b6f7-5978-471d-c9b6-4bdbbe870d58"
      },
      "execution_count": 40,
      "outputs": [
        {
          "output_type": "execute_result",
          "data": {
            "text/plain": [
              "array([0., 0., 0., 0., 0.])"
            ]
          },
          "metadata": {},
          "execution_count": 40
        }
      ]
    },
    {
      "cell_type": "code",
      "source": [
        "k=np.zeros((3,3,1))"
      ],
      "metadata": {
        "id": "rSg1tBUaI9AB"
      },
      "execution_count": 45,
      "outputs": []
    },
    {
      "cell_type": "code",
      "source": [
        "k"
      ],
      "metadata": {
        "colab": {
          "base_uri": "https://localhost:8080/"
        },
        "id": "tVRdjc8QI8wr",
        "outputId": "d744c803-34e7-4dfe-f801-2d1564f5ad16"
      },
      "execution_count": 46,
      "outputs": [
        {
          "output_type": "execute_result",
          "data": {
            "text/plain": [
              "array([[[0.],\n",
              "        [0.],\n",
              "        [0.]],\n",
              "\n",
              "       [[0.],\n",
              "        [0.],\n",
              "        [0.]],\n",
              "\n",
              "       [[0.],\n",
              "        [0.],\n",
              "        [0.]]])"
            ]
          },
          "metadata": {},
          "execution_count": 46
        }
      ]
    },
    {
      "cell_type": "code",
      "source": [
        "k.ndim"
      ],
      "metadata": {
        "colab": {
          "base_uri": "https://localhost:8080/"
        },
        "id": "6k4WlqGcJ1L9",
        "outputId": "433895dc-cd04-4c49-b5f5-1f87304678c1"
      },
      "execution_count": 47,
      "outputs": [
        {
          "output_type": "execute_result",
          "data": {
            "text/plain": [
              "3"
            ]
          },
          "metadata": {},
          "execution_count": 47
        }
      ]
    },
    {
      "cell_type": "markdown",
      "source": [
        "# np.zeros_like"
      ],
      "metadata": {
        "id": "xwErwf9bKC33"
      }
    },
    {
      "cell_type": "code",
      "source": [
        "x = np.arange(6)\n",
        "x = x.reshape((2, 3))"
      ],
      "metadata": {
        "id": "jm08_eLaJ5h8"
      },
      "execution_count": 48,
      "outputs": []
    },
    {
      "cell_type": "code",
      "source": [
        "x"
      ],
      "metadata": {
        "colab": {
          "base_uri": "https://localhost:8080/"
        },
        "id": "awsacDGEJ5Vj",
        "outputId": "aeca01f5-db29-4813-ccb7-0708ee3fab8d"
      },
      "execution_count": 49,
      "outputs": [
        {
          "output_type": "execute_result",
          "data": {
            "text/plain": [
              "array([[0, 1, 2],\n",
              "       [3, 4, 5]])"
            ]
          },
          "metadata": {},
          "execution_count": 49
        }
      ]
    },
    {
      "cell_type": "code",
      "source": [
        "np.zeros_like(x)"
      ],
      "metadata": {
        "colab": {
          "base_uri": "https://localhost:8080/"
        },
        "id": "z3eFciUEJ5JT",
        "outputId": "57128ffe-601c-47ac-89c7-1342fefd8f38"
      },
      "execution_count": 50,
      "outputs": [
        {
          "output_type": "execute_result",
          "data": {
            "text/plain": [
              "array([[0, 0, 0],\n",
              "       [0, 0, 0]])"
            ]
          },
          "metadata": {},
          "execution_count": 50
        }
      ]
    },
    {
      "cell_type": "markdown",
      "source": [
        "# np.full()"
      ],
      "metadata": {
        "id": "cWwybvxwL5Y8"
      }
    },
    {
      "cell_type": "code",
      "source": [
        "np.full((2, 2), 10)"
      ],
      "metadata": {
        "colab": {
          "base_uri": "https://localhost:8080/"
        },
        "id": "cCJy4_umKNLW",
        "outputId": "5cd712fe-d5dc-4333-98cd-18b479f15e77"
      },
      "execution_count": 51,
      "outputs": [
        {
          "output_type": "execute_result",
          "data": {
            "text/plain": [
              "array([[10, 10],\n",
              "       [10, 10]])"
            ]
          },
          "metadata": {},
          "execution_count": 51
        }
      ]
    },
    {
      "cell_type": "code",
      "source": [
        "np.full((2, 2), [1, 2])"
      ],
      "metadata": {
        "colab": {
          "base_uri": "https://localhost:8080/"
        },
        "id": "mpAUdiv8KNdu",
        "outputId": "622d8ccd-127a-4d36-8a94-2f6b15e2faa5"
      },
      "execution_count": 52,
      "outputs": [
        {
          "output_type": "execute_result",
          "data": {
            "text/plain": [
              "array([[1, 2],\n",
              "       [1, 2]])"
            ]
          },
          "metadata": {},
          "execution_count": 52
        }
      ]
    },
    {
      "cell_type": "markdown",
      "source": [
        "# np.full_like"
      ],
      "metadata": {
        "id": "-mKLI4c5P0da"
      }
    },
    {
      "cell_type": "code",
      "source": [
        "x = np.arange(6, dtype=int)"
      ],
      "metadata": {
        "id": "WsEmB0ijKNkH"
      },
      "execution_count": 53,
      "outputs": []
    },
    {
      "cell_type": "code",
      "source": [
        "np.full_like(x, 1)"
      ],
      "metadata": {
        "colab": {
          "base_uri": "https://localhost:8080/"
        },
        "id": "bdASq39cKNpV",
        "outputId": "52a4e2ab-1d97-472c-f6fe-6e9d1d958fee"
      },
      "execution_count": 54,
      "outputs": [
        {
          "output_type": "execute_result",
          "data": {
            "text/plain": [
              "array([1, 1, 1, 1, 1, 1])"
            ]
          },
          "metadata": {},
          "execution_count": 54
        }
      ]
    },
    {
      "cell_type": "code",
      "source": [
        "y = np.zeros([2, 2, 3], dtype=int)\n",
        "np.full_like(y, [0, 0,25])"
      ],
      "metadata": {
        "colab": {
          "base_uri": "https://localhost:8080/"
        },
        "id": "4sbYq5CIKNt5",
        "outputId": "54e4c695-819c-45c8-8739-ecabd1cddb70"
      },
      "execution_count": 59,
      "outputs": [
        {
          "output_type": "execute_result",
          "data": {
            "text/plain": [
              "array([[[ 0,  0, 25],\n",
              "        [ 0,  0, 25]],\n",
              "\n",
              "       [[ 0,  0, 25],\n",
              "        [ 0,  0, 25]]])"
            ]
          },
          "metadata": {},
          "execution_count": 59
        }
      ]
    },
    {
      "cell_type": "code",
      "source": [
        "np.linspace(2.0, 3.0, num=5)"
      ],
      "metadata": {
        "colab": {
          "base_uri": "https://localhost:8080/"
        },
        "id": "3n_jkfpRKNyZ",
        "outputId": "7652e797-3cdd-4d0b-a49a-0063c509806e"
      },
      "execution_count": 61,
      "outputs": [
        {
          "output_type": "execute_result",
          "data": {
            "text/plain": [
              "array([2.  , 2.25, 2.5 , 2.75, 3.  ])"
            ]
          },
          "metadata": {},
          "execution_count": 61
        }
      ]
    },
    {
      "cell_type": "code",
      "source": [
        "np.linspace(2.0, 3.0, num=5, endpoint=False)"
      ],
      "metadata": {
        "colab": {
          "base_uri": "https://localhost:8080/"
        },
        "id": "hx1YqG66KN2T",
        "outputId": "ff5ae36e-980d-404f-fbeb-69910ba800ff"
      },
      "execution_count": 62,
      "outputs": [
        {
          "output_type": "execute_result",
          "data": {
            "text/plain": [
              "array([2. , 2.2, 2.4, 2.6, 2.8])"
            ]
          },
          "metadata": {},
          "execution_count": 62
        }
      ]
    },
    {
      "cell_type": "code",
      "source": [
        "np.linspace(2.0, 3.0, num=5, endpoint=True)"
      ],
      "metadata": {
        "colab": {
          "base_uri": "https://localhost:8080/"
        },
        "id": "ibaSfX8cKN7N",
        "outputId": "247302c4-feda-4278-ef52-839dfbab6976"
      },
      "execution_count": 63,
      "outputs": [
        {
          "output_type": "execute_result",
          "data": {
            "text/plain": [
              "array([2.  , 2.25, 2.5 , 2.75, 3.  ])"
            ]
          },
          "metadata": {},
          "execution_count": 63
        }
      ]
    },
    {
      "cell_type": "code",
      "source": [
        "np.linspace(2.0, 3.0, num=5, retstep=True)"
      ],
      "metadata": {
        "colab": {
          "base_uri": "https://localhost:8080/"
        },
        "id": "SfV8P3SKKN--",
        "outputId": "857f4381-21dd-411f-91ae-1b3fbd16c3fd"
      },
      "execution_count": 64,
      "outputs": [
        {
          "output_type": "execute_result",
          "data": {
            "text/plain": [
              "(array([2.  , 2.25, 2.5 , 2.75, 3.  ]), 0.25)"
            ]
          },
          "metadata": {},
          "execution_count": 64
        }
      ]
    },
    {
      "cell_type": "code",
      "source": [
        "np.linspace(2.0, 3.0, num=5, retstep=False)"
      ],
      "metadata": {
        "colab": {
          "base_uri": "https://localhost:8080/"
        },
        "id": "NlOP2HdlKOLv",
        "outputId": "7baa6778-313a-4fc4-d921-0baef29569d8"
      },
      "execution_count": 65,
      "outputs": [
        {
          "output_type": "execute_result",
          "data": {
            "text/plain": [
              "array([2.  , 2.25, 2.5 , 2.75, 3.  ])"
            ]
          },
          "metadata": {},
          "execution_count": 65
        }
      ]
    },
    {
      "cell_type": "code",
      "source": [
        "np.random.rand(10)"
      ],
      "metadata": {
        "colab": {
          "base_uri": "https://localhost:8080/"
        },
        "id": "7SpdGxz5KOPv",
        "outputId": "a7076f08-85c1-4680-ab2d-7144b7929a75"
      },
      "execution_count": 66,
      "outputs": [
        {
          "output_type": "execute_result",
          "data": {
            "text/plain": [
              "array([0.8578173 , 0.69028902, 0.9574373 , 0.61897442, 0.98585536,\n",
              "       0.98641569, 0.85858836, 0.16167747, 0.89738583, 0.43810021])"
            ]
          },
          "metadata": {},
          "execution_count": 66
        }
      ]
    },
    {
      "cell_type": "code",
      "source": [
        "np.random.rand(10,2,5)"
      ],
      "metadata": {
        "colab": {
          "base_uri": "https://localhost:8080/"
        },
        "id": "_g7YRMtPKOVI",
        "outputId": "18cd80f7-4135-4284-893f-6af2af986977"
      },
      "execution_count": 67,
      "outputs": [
        {
          "output_type": "execute_result",
          "data": {
            "text/plain": [
              "array([[[0.67043764, 0.19298555, 0.60107323, 0.69639052, 0.13157152],\n",
              "        [0.11278062, 0.7628146 , 0.6074757 , 0.25785924, 0.5875275 ]],\n",
              "\n",
              "       [[0.36406614, 0.53225642, 0.80948864, 0.12882605, 0.84630538],\n",
              "        [0.51508535, 0.05211818, 0.66063927, 0.13097836, 0.90637576]],\n",
              "\n",
              "       [[0.80139938, 0.61074037, 0.23005334, 0.58543381, 0.79931446],\n",
              "        [0.37976073, 0.52614635, 0.18238832, 0.61321687, 0.24006223]],\n",
              "\n",
              "       [[0.18780401, 0.60642843, 0.96431422, 0.76446491, 0.96387774],\n",
              "        [0.65768865, 0.65568318, 0.61886691, 0.19486743, 0.56506265]],\n",
              "\n",
              "       [[0.52144376, 0.08378216, 0.80409916, 0.78451703, 0.32411248],\n",
              "        [0.07520478, 0.85334686, 0.44904137, 0.07682109, 0.22986905]],\n",
              "\n",
              "       [[0.29524008, 0.71750341, 0.53277918, 0.4903097 , 0.55500627],\n",
              "        [0.79974558, 0.67183643, 0.9809947 , 0.3248822 , 0.13154426]],\n",
              "\n",
              "       [[0.87319588, 0.36301106, 0.99237379, 0.74481884, 0.69561486],\n",
              "        [0.10440383, 0.00613056, 0.38292499, 0.85081585, 0.11144083]],\n",
              "\n",
              "       [[0.77386456, 0.63814482, 0.71568613, 0.13134626, 0.71325403],\n",
              "        [0.69001027, 0.47293516, 0.74868054, 0.99209796, 0.07468484]],\n",
              "\n",
              "       [[0.56521726, 0.14982244, 0.99275853, 0.47544139, 0.09245779],\n",
              "        [0.07858095, 0.51546096, 0.60779017, 0.98617562, 0.3202067 ]],\n",
              "\n",
              "       [[0.21137187, 0.72792028, 0.6009104 , 0.59623407, 0.51161599],\n",
              "        [0.7277131 , 0.42075801, 0.95689228, 0.07971993, 0.37033539]]])"
            ]
          },
          "metadata": {},
          "execution_count": 67
        }
      ]
    },
    {
      "cell_type": "code",
      "source": [
        "np.random.randn(3,3)"
      ],
      "metadata": {
        "colab": {
          "base_uri": "https://localhost:8080/"
        },
        "id": "XJCOhRyUKOZH",
        "outputId": "2830a060-4e5e-430c-cfbb-6b7c7951b407"
      },
      "execution_count": 69,
      "outputs": [
        {
          "output_type": "execute_result",
          "data": {
            "text/plain": [
              "array([[ 0.45498861, -0.81468981,  0.1067899 ],\n",
              "       [ 1.19273512, -0.90570922, -0.67090214],\n",
              "       [-0.8283083 , -0.32398939,  0.15351457]])"
            ]
          },
          "metadata": {},
          "execution_count": 69
        }
      ]
    },
    {
      "cell_type": "code",
      "source": [
        "np.random.randint(5, size=(2, 4))"
      ],
      "metadata": {
        "colab": {
          "base_uri": "https://localhost:8080/"
        },
        "id": "AZCMji3HKOdO",
        "outputId": "ccb51658-c825-413e-dd45-8f074e548341"
      },
      "execution_count": 72,
      "outputs": [
        {
          "output_type": "execute_result",
          "data": {
            "text/plain": [
              "array([[2, 0, 1, 3],\n",
              "       [0, 3, 3, 4]])"
            ]
          },
          "metadata": {},
          "execution_count": 72
        }
      ]
    },
    {
      "cell_type": "code",
      "source": [],
      "metadata": {
        "id": "S-dzRE3qKOiT"
      },
      "execution_count": null,
      "outputs": []
    },
    {
      "cell_type": "code",
      "source": [],
      "metadata": {
        "id": "NQK1ItfuKOmW"
      },
      "execution_count": null,
      "outputs": []
    },
    {
      "cell_type": "code",
      "source": [],
      "metadata": {
        "id": "3YOFDsuhKOrH"
      },
      "execution_count": null,
      "outputs": []
    },
    {
      "cell_type": "code",
      "source": [],
      "metadata": {
        "id": "H1ZZBU-GKOvY"
      },
      "execution_count": null,
      "outputs": []
    }
  ]
}