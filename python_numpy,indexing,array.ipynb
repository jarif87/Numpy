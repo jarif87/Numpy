{
  "nbformat": 4,
  "nbformat_minor": 0,
  "metadata": {
    "colab": {
      "provenance": []
    },
    "kernelspec": {
      "name": "python3",
      "display_name": "Python 3"
    },
    "language_info": {
      "name": "python"
    }
  },
  "cells": [
    {
      "cell_type": "markdown",
      "source": [
        "# Numpy"
      ],
      "metadata": {
        "id": "iAk3pT2ffJNJ"
      }
    },
    {
      "cell_type": "markdown",
      "source": [
        "* NumPy or Numeric Python is a package for computation on homogenous n-dimensional arrays.In numpy dimensions are called as axes."
      ],
      "metadata": {
        "id": "IsUpl95dfLjy"
      }
    },
    {
      "cell_type": "markdown",
      "source": [
        "# \tWhy do we need NumPy? [when python lists are already there]"
      ],
      "metadata": {
        "id": "-ijODcK2fWR_"
      }
    },
    {
      "cell_type": "markdown",
      "source": [
        "**we cannot perform operations on all the elements of two list directly.**\n",
        "* For example, we cannot multiply two lists directly we will have to do it element wise. \n",
        "* This is where the role of NumPy comes into play.\n"
      ],
      "metadata": {
        "id": "cDff3AsDfazM"
      }
    },
    {
      "cell_type": "code",
      "source": [
        "import numpy as np\n",
        "import torch"
      ],
      "metadata": {
        "id": "wQ71HIL-gDOz"
      },
      "execution_count": 1,
      "outputs": []
    },
    {
      "cell_type": "code",
      "execution_count": 2,
      "metadata": {
        "id": "gsvimPPjeunP"
      },
      "outputs": [],
      "source": [
        "list1 = [1, 2, 3, 4, 5, 6] \n",
        "list2 = [10, 9, 8, 7, 6, 5] "
      ]
    },
    {
      "cell_type": "code",
      "source": [
        "a1 = np.array(list1)\n",
        "print(a1)"
      ],
      "metadata": {
        "colab": {
          "base_uri": "https://localhost:8080/"
        },
        "id": "HtoLXRFIe1wG",
        "outputId": "97fee95f-2a26-4252-8c46-42f0b98d3402"
      },
      "execution_count": 3,
      "outputs": [
        {
          "output_type": "stream",
          "name": "stdout",
          "text": [
            "[1 2 3 4 5 6]\n"
          ]
        }
      ]
    },
    {
      "cell_type": "code",
      "source": [
        "type(a1)"
      ],
      "metadata": {
        "colab": {
          "base_uri": "https://localhost:8080/"
        },
        "id": "AnBfG6jjgVI-",
        "outputId": "ba822825-2a1b-421e-dc99-280a7112d538"
      },
      "execution_count": 4,
      "outputs": [
        {
          "output_type": "execute_result",
          "data": {
            "text/plain": [
              "numpy.ndarray"
            ]
          },
          "metadata": {},
          "execution_count": 4
        }
      ]
    },
    {
      "cell_type": "markdown",
      "source": [
        "# Convert list2 into a NumPy array "
      ],
      "metadata": {
        "id": "rrRENpy6gP27"
      }
    },
    {
      "cell_type": "code",
      "source": [
        "a2 = np.array(list2) \n",
        "print(a1*a2)"
      ],
      "metadata": {
        "colab": {
          "base_uri": "https://localhost:8080/"
        },
        "id": "oh-doxyke1y_",
        "outputId": "3afd604d-af55-45ca-feb0-c94ee53d906e"
      },
      "execution_count": 5,
      "outputs": [
        {
          "output_type": "stream",
          "name": "stdout",
          "text": [
            "[10 18 24 28 30 30]\n"
          ]
        }
      ]
    },
    {
      "cell_type": "code",
      "source": [
        "a = np.array([1, 2, 3, 4, 5, 6])\n",
        "print(a)"
      ],
      "metadata": {
        "colab": {
          "base_uri": "https://localhost:8080/"
        },
        "id": "F9AqZHMse12P",
        "outputId": "97467210-1a22-40de-832f-0467a130b7ad"
      },
      "execution_count": 6,
      "outputs": [
        {
          "output_type": "stream",
          "name": "stdout",
          "text": [
            "[1 2 3 4 5 6]\n"
          ]
        }
      ]
    },
    {
      "cell_type": "code",
      "source": [
        "print(a.dtype)"
      ],
      "metadata": {
        "colab": {
          "base_uri": "https://localhost:8080/"
        },
        "id": "wYOifJjue15E",
        "outputId": "1b1715ef-686b-494f-9ab8-f8da213a6ec0"
      },
      "execution_count": 7,
      "outputs": [
        {
          "output_type": "stream",
          "name": "stdout",
          "text": [
            "int64\n"
          ]
        }
      ]
    },
    {
      "cell_type": "code",
      "source": [
        "print(a.ndim)"
      ],
      "metadata": {
        "colab": {
          "base_uri": "https://localhost:8080/"
        },
        "id": "PE3gSYg1e181",
        "outputId": "d39bcdf3-de9d-4b34-9af8-ef02f6d4fbdb"
      },
      "execution_count": 8,
      "outputs": [
        {
          "output_type": "stream",
          "name": "stdout",
          "text": [
            "1\n"
          ]
        }
      ]
    },
    {
      "cell_type": "code",
      "source": [
        "print(a.shape)"
      ],
      "metadata": {
        "colab": {
          "base_uri": "https://localhost:8080/"
        },
        "id": "1Fcnk0-Ke1_i",
        "outputId": "45f012f9-32af-49c4-c123-f342c2ef5c88"
      },
      "execution_count": 9,
      "outputs": [
        {
          "output_type": "stream",
          "name": "stdout",
          "text": [
            "(6,)\n"
          ]
        }
      ]
    },
    {
      "cell_type": "code",
      "source": [
        "a = np.zeros((2,4))\n",
        "print(a)"
      ],
      "metadata": {
        "colab": {
          "base_uri": "https://localhost:8080/"
        },
        "id": "RPauLUtSe2DS",
        "outputId": "445d806f-fcda-410a-c6ca-9ccda97a24d7"
      },
      "execution_count": 10,
      "outputs": [
        {
          "output_type": "stream",
          "name": "stdout",
          "text": [
            "[[0. 0. 0. 0.]\n",
            " [0. 0. 0. 0.]]\n"
          ]
        }
      ]
    },
    {
      "cell_type": "markdown",
      "source": [
        "* In PyTorch, the attribute to get the number of dimensions of a tensor is .dim(), not .ndim(). This is different from NumPy, which uses the .ndim attribute to get the number of dimensions of an array.\n",
        "\n",
        "* Therefore, when working with PyTorch tensors, you should use .dim() to get the number of dimensions of a tensor"
      ],
      "metadata": {
        "id": "o0CMZ3_ViPaF"
      }
    },
    {
      "cell_type": "code",
      "source": [
        "\n",
        "\n",
        "# Create a 2D tensor with shape (5, 3)\n",
        "x = torch.rand(5, 3)\n",
        "\n",
        "# Get the shape and number of dimensions of the tensor\n",
        "print('Tensor shape:', x.shape)\n",
        "print('Number of dimensions:', x.dim())\n"
      ],
      "metadata": {
        "colab": {
          "base_uri": "https://localhost:8080/"
        },
        "id": "Vu1lQGpce2GI",
        "outputId": "a538f7c1-a8ae-442c-cbda-4b1aee8391e8"
      },
      "execution_count": 11,
      "outputs": [
        {
          "output_type": "stream",
          "name": "stdout",
          "text": [
            "Tensor shape: torch.Size([5, 3])\n",
            "Number of dimensions: 2\n"
          ]
        }
      ]
    },
    {
      "cell_type": "code",
      "source": [
        "a = np.empty((4,4))\n",
        "print(a)"
      ],
      "metadata": {
        "colab": {
          "base_uri": "https://localhost:8080/"
        },
        "id": "9TD2erkGe2KL",
        "outputId": "afa22b4a-9b60-4db3-889a-2c10bac6dfab"
      },
      "execution_count": 12,
      "outputs": [
        {
          "output_type": "stream",
          "name": "stdout",
          "text": [
            "[[5.43742721e-316 0.00000000e+000 6.20422629e+223 2.19995456e-152]\n",
            " [1.17072865e+214 2.63553806e+092 6.29201311e+233 5.07586646e+058]\n",
            " [1.66205086e+150 7.68755624e+170 4.65660587e+164 1.00054848e-095]\n",
            " [3.22579210e+031 1.66205074e+150 1.30488965e+180 9.10699859e-308]]\n"
          ]
        }
      ]
    },
    {
      "cell_type": "code",
      "source": [
        "b = np.ones_like(a)\n",
        "print(b)"
      ],
      "metadata": {
        "colab": {
          "base_uri": "https://localhost:8080/"
        },
        "id": "-tRt9P8De2Pl",
        "outputId": "48a121bc-613e-47d7-be26-9bd848a759dd"
      },
      "execution_count": 13,
      "outputs": [
        {
          "output_type": "stream",
          "name": "stdout",
          "text": [
            "[[1. 1. 1. 1.]\n",
            " [1. 1. 1. 1.]\n",
            " [1. 1. 1. 1.]\n",
            " [1. 1. 1. 1.]]\n"
          ]
        }
      ]
    },
    {
      "cell_type": "code",
      "source": [
        "print(np.linspace(0, 10, 5))\n"
      ],
      "metadata": {
        "colab": {
          "base_uri": "https://localhost:8080/"
        },
        "id": "PY9OSDH6e2fu",
        "outputId": "90e1f05b-f345-4161-d69e-2af45b1f870c"
      },
      "execution_count": 14,
      "outputs": [
        {
          "output_type": "stream",
          "name": "stdout",
          "text": [
            "[ 0.   2.5  5.   7.5 10. ]\n"
          ]
        }
      ]
    },
    {
      "cell_type": "code",
      "source": [
        "print(np.arange(0, 10, 2))"
      ],
      "metadata": {
        "colab": {
          "base_uri": "https://localhost:8080/"
        },
        "id": "NUS9lP9Qe2i-",
        "outputId": "c0355118-d9e6-4c01-eca2-54a81b729fef"
      },
      "execution_count": 15,
      "outputs": [
        {
          "output_type": "stream",
          "name": "stdout",
          "text": [
            "[0 2 4 6 8]\n"
          ]
        }
      ]
    },
    {
      "cell_type": "code",
      "source": [
        "a = np.arange(6)  \n",
        "print(a, \"np.arange\")"
      ],
      "metadata": {
        "colab": {
          "base_uri": "https://localhost:8080/"
        },
        "id": "9717XtO1e2nH",
        "outputId": "f4a1cc8b-3f97-40b3-884d-54e4325364cc"
      },
      "execution_count": 16,
      "outputs": [
        {
          "output_type": "stream",
          "name": "stdout",
          "text": [
            "[0 1 2 3 4 5] np.arange\n"
          ]
        }
      ]
    },
    {
      "cell_type": "markdown",
      "source": [
        "### Both range and arange are functions in Python and NumPy, respectively, that can be used to generate a sequence of numbers. However, there are some differences between the two functions."
      ],
      "metadata": {
        "id": "fdIxpIK2jLLW"
      }
    },
    {
      "cell_type": "markdown",
      "source": [
        "### In Python, the range function is a built-in function that generates a sequence of integers. The function takes up to three arguments: start, stop, and step, where start is the starting value of the sequence (default is 0), stop is the stopping value of the sequence (not included in the sequence), and step is the step size between values (default is 1). Here's an example:"
      ],
      "metadata": {
        "id": "jJ5xEVP0jSdo"
      }
    },
    {
      "cell_type": "code",
      "source": [
        "# Generate a sequence of integers from 0 to 9\n",
        "seq = range(10)\n",
        "\n",
        "# Print the sequence\n",
        "print(list(seq))  # Output: [0, 1, 2, 3, 4, 5, 6, 7, 8, 9]\n"
      ],
      "metadata": {
        "colab": {
          "base_uri": "https://localhost:8080/"
        },
        "id": "ZVVCV1eje2qZ",
        "outputId": "a88ff49f-4cb1-45b7-973f-65052f66d5f9"
      },
      "execution_count": 17,
      "outputs": [
        {
          "output_type": "stream",
          "name": "stdout",
          "text": [
            "[0, 1, 2, 3, 4, 5, 6, 7, 8, 9]\n"
          ]
        }
      ]
    },
    {
      "cell_type": "markdown",
      "source": [
        "### In NumPy, the arange function is a function that generates a sequence of numbers. The function takes up to three arguments: start, stop, and step, where start is the starting value of the sequence (default is 0), stop is the stopping value of the sequence (not included in the sequence), and step is the step size between values (default is 1). However, unlike range, arange can generate sequences of non-integer values. Here's an "
      ],
      "metadata": {
        "id": "Fi0nrS4Qjph2"
      }
    },
    {
      "cell_type": "code",
      "source": [
        "\n",
        "\n",
        "# Generate a sequence of floats from 0 to 9\n",
        "seq = np.arange(0, 10, 0.8)\n",
        "\n",
        "# Print the sequence\n",
        "print(seq)  # Output: [0.  0.5 1.  1.5 2.  2.5 3.  3.5 4.  4.5 5.  5.5 6.  6.5 7.  7.5 8.  8.5 9.  9.5]\n"
      ],
      "metadata": {
        "colab": {
          "base_uri": "https://localhost:8080/"
        },
        "id": "BkEFoDqPe2uB",
        "outputId": "f74795fc-0167-4892-9d26-22041ed86960"
      },
      "execution_count": 18,
      "outputs": [
        {
          "output_type": "stream",
          "name": "stdout",
          "text": [
            "[0.  0.8 1.6 2.4 3.2 4.  4.8 5.6 6.4 7.2 8.  8.8 9.6]\n"
          ]
        }
      ]
    },
    {
      "cell_type": "code",
      "source": [
        "b = np.arange(12).reshape(4,3) \n",
        "print(\"np.arange(12).reshape(4,3)\")\n",
        "print(b)"
      ],
      "metadata": {
        "colab": {
          "base_uri": "https://localhost:8080/"
        },
        "id": "uyaazjGye272",
        "outputId": "49643160-d5f6-49e1-bd13-288e45492000"
      },
      "execution_count": 19,
      "outputs": [
        {
          "output_type": "stream",
          "name": "stdout",
          "text": [
            "np.arange(12).reshape(4,3)\n",
            "[[ 0  1  2]\n",
            " [ 3  4  5]\n",
            " [ 6  7  8]\n",
            " [ 9 10 11]]\n"
          ]
        }
      ]
    },
    {
      "cell_type": "markdown",
      "source": [
        "# Indexing using index arrays"
      ],
      "metadata": {
        "id": "dpqarms_kabL"
      }
    },
    {
      "cell_type": "code",
      "source": [
        "print(b.sum(axis=1))  "
      ],
      "metadata": {
        "colab": {
          "base_uri": "https://localhost:8080/"
        },
        "id": "IhwGOLxYe2-n",
        "outputId": "f729e309-1595-40a6-f194-bdccd612c4cd"
      },
      "execution_count": 20,
      "outputs": [
        {
          "output_type": "stream",
          "name": "stdout",
          "text": [
            "[ 3 12 21 30]\n"
          ]
        }
      ]
    },
    {
      "cell_type": "code",
      "source": [
        "print(b.min(axis=1)) "
      ],
      "metadata": {
        "colab": {
          "base_uri": "https://localhost:8080/"
        },
        "id": "K8SqiUVye3CO",
        "outputId": "35ec32d7-4ee1-41cb-8682-5ee6392fcf93"
      },
      "execution_count": 21,
      "outputs": [
        {
          "output_type": "stream",
          "name": "stdout",
          "text": [
            "[0 3 6 9]\n"
          ]
        }
      ]
    },
    {
      "cell_type": "code",
      "source": [
        "a=np.array([  0,   1,   8,  27,  64, 125, 216, 343, 512, 729])\n",
        "print(a[-1])"
      ],
      "metadata": {
        "colab": {
          "base_uri": "https://localhost:8080/"
        },
        "id": "ELErrRgce3FS",
        "outputId": "1940b8bd-fc0c-42e0-b30a-8e15b8b30bfa"
      },
      "execution_count": 22,
      "outputs": [
        {
          "output_type": "stream",
          "name": "stdout",
          "text": [
            "729\n"
          ]
        }
      ]
    },
    {
      "cell_type": "code",
      "source": [
        "print(a[2:5])"
      ],
      "metadata": {
        "colab": {
          "base_uri": "https://localhost:8080/"
        },
        "id": "W4VivDlPe3Ii",
        "outputId": "4f28454b-1025-41dc-d184-186f0b77c790"
      },
      "execution_count": 23,
      "outputs": [
        {
          "output_type": "stream",
          "name": "stdout",
          "text": [
            "[ 8 27 64]\n"
          ]
        }
      ]
    },
    {
      "cell_type": "code",
      "source": [
        " a[:6:2] = -1000    # equivalent to a[0:6:2] = -1000; from start to position 6, exclusive, set every 2nd element to -1000\n",
        "print(a)"
      ],
      "metadata": {
        "colab": {
          "base_uri": "https://localhost:8080/"
        },
        "id": "YTJXgK5Ek-bF",
        "outputId": "1132e033-3287-49e4-a6f8-a90dfe6b5512"
      },
      "execution_count": 24,
      "outputs": [
        {
          "output_type": "stream",
          "name": "stdout",
          "text": [
            "[-1000     1 -1000    27 -1000   125   216   343   512   729]\n"
          ]
        }
      ]
    },
    {
      "cell_type": "code",
      "source": [
        "print(a[ : :-1]) "
      ],
      "metadata": {
        "colab": {
          "base_uri": "https://localhost:8080/"
        },
        "id": "_NUD7xquk-Ou",
        "outputId": "f0f585d2-a030-4728-9492-f1c01ee0805e"
      },
      "execution_count": 25,
      "outputs": [
        {
          "output_type": "stream",
          "name": "stdout",
          "text": [
            "[  729   512   343   216   125 -1000    27 -1000     1 -1000]\n"
          ]
        }
      ]
    },
    {
      "cell_type": "code",
      "source": [
        "a = np.array([[1, 2], \n",
        "              [3, 4]]) \n",
        "  \n",
        "b = np.array([[5, 6], \n",
        "              [7, 8]])"
      ],
      "metadata": {
        "id": "5gT10SXjk-FJ"
      },
      "execution_count": 26,
      "outputs": []
    },
    {
      "cell_type": "code",
      "source": [
        "\n",
        "print(\"Vertical stacking:\\n\", np.vstack((a, b))) "
      ],
      "metadata": {
        "colab": {
          "base_uri": "https://localhost:8080/"
        },
        "id": "0ROLYmS2k9-s",
        "outputId": "375e99eb-b2db-4466-d4ad-17a6a06ce3fa"
      },
      "execution_count": 27,
      "outputs": [
        {
          "output_type": "stream",
          "name": "stdout",
          "text": [
            "Vertical stacking:\n",
            " [[1 2]\n",
            " [3 4]\n",
            " [5 6]\n",
            " [7 8]]\n"
          ]
        }
      ]
    },
    {
      "cell_type": "code",
      "source": [
        "# horizontal stacking \n",
        "print(\"Horizontal stacking:\\n\", np.hstack((a, b))) "
      ],
      "metadata": {
        "colab": {
          "base_uri": "https://localhost:8080/"
        },
        "id": "u5VyJUN-k94D",
        "outputId": "1dd680f8-2633-4574-a7cd-9aa961b1ca66"
      },
      "execution_count": 28,
      "outputs": [
        {
          "output_type": "stream",
          "name": "stdout",
          "text": [
            "Horizontal stacking:\n",
            " [[1 2 5 6]\n",
            " [3 4 7 8]]\n"
          ]
        }
      ]
    },
    {
      "cell_type": "code",
      "source": [
        "print(a)"
      ],
      "metadata": {
        "colab": {
          "base_uri": "https://localhost:8080/"
        },
        "id": "cZfjC5jSnhGN",
        "outputId": "ffbd865a-6bf9-458f-f4ad-bc858b7709d5"
      },
      "execution_count": 29,
      "outputs": [
        {
          "output_type": "stream",
          "name": "stdout",
          "text": [
            "[[1 2]\n",
            " [3 4]]\n"
          ]
        }
      ]
    },
    {
      "cell_type": "markdown",
      "source": [
        "# stacking columns "
      ],
      "metadata": {
        "id": "2UVEjWlDncpK"
      }
    },
    {
      "cell_type": "code",
      "source": [
        "c = [5, 6] \n",
        "  \n",
        "\n",
        "print(\"Column stacking:\\n\", np.column_stack((a, c)))"
      ],
      "metadata": {
        "colab": {
          "base_uri": "https://localhost:8080/"
        },
        "id": "3-hNGvUCk9wp",
        "outputId": "54f76706-715b-49ce-eecb-a57d3cb34e1a"
      },
      "execution_count": 30,
      "outputs": [
        {
          "output_type": "stream",
          "name": "stdout",
          "text": [
            "Column stacking:\n",
            " [[1 2 5]\n",
            " [3 4 6]]\n"
          ]
        }
      ]
    },
    {
      "cell_type": "code",
      "source": [
        "a = np.array([[1, 3, 5, 7, 9, 11], \n",
        "              [2, 4, 6, 8, 10, 12]]) \n",
        "print(a)"
      ],
      "metadata": {
        "colab": {
          "base_uri": "https://localhost:8080/"
        },
        "id": "ztqbmgKPmZN0",
        "outputId": "16997fcd-4323-43f4-c2e2-2f90de177ae5"
      },
      "execution_count": 31,
      "outputs": [
        {
          "output_type": "stream",
          "name": "stdout",
          "text": [
            "[[ 1  3  5  7  9 11]\n",
            " [ 2  4  6  8 10 12]]\n"
          ]
        }
      ]
    },
    {
      "cell_type": "markdown",
      "source": [
        "# horizontal splitting "
      ],
      "metadata": {
        "id": "KCnzx6Y5n7z-"
      }
    },
    {
      "cell_type": "code",
      "source": [
        "print(\"Splitting along horizontal axis into 2 parts:\\n\", np.hsplit(a, 2)) "
      ],
      "metadata": {
        "colab": {
          "base_uri": "https://localhost:8080/"
        },
        "id": "z8YNO3IEmaCX",
        "outputId": "cdbecf79-f0a5-4b47-d902-3de4e2c00ccd"
      },
      "execution_count": 32,
      "outputs": [
        {
          "output_type": "stream",
          "name": "stdout",
          "text": [
            "Splitting along horizontal axis into 2 parts:\n",
            " [array([[1, 3, 5],\n",
            "       [2, 4, 6]]), array([[ 7,  9, 11],\n",
            "       [ 8, 10, 12]])]\n"
          ]
        }
      ]
    },
    {
      "cell_type": "markdown",
      "source": [
        "# vertical splitting"
      ],
      "metadata": {
        "id": "PhXxuN0GoCZs"
      }
    },
    {
      "cell_type": "code",
      "source": [
        " print(\"Splitting along vertical axis into 2 parts:\\n\", np.vsplit(a, 2))"
      ],
      "metadata": {
        "colab": {
          "base_uri": "https://localhost:8080/"
        },
        "id": "DkXZbjPCmaLG",
        "outputId": "9693af1c-7f63-4254-c329-2b16bd9f9fa8"
      },
      "execution_count": 33,
      "outputs": [
        {
          "output_type": "stream",
          "name": "stdout",
          "text": [
            "Splitting along vertical axis into 2 parts:\n",
            " [array([[ 1,  3,  5,  7,  9, 11]]), array([[ 2,  4,  6,  8, 10, 12]])]\n"
          ]
        }
      ]
    },
    {
      "cell_type": "code",
      "source": [
        "a = np.arange(20, 10, -1)  \n",
        "print(\"sequential array with a negative step: \",a)"
      ],
      "metadata": {
        "colab": {
          "base_uri": "https://localhost:8080/"
        },
        "id": "zB-nxGOimaSw",
        "outputId": "0b3a924d-e216-4baa-868a-59675e5d3109"
      },
      "execution_count": 34,
      "outputs": [
        {
          "output_type": "stream",
          "name": "stdout",
          "text": [
            "sequential array with a negative step:  [20 19 18 17 16 15 14 13 12 11]\n"
          ]
        }
      ]
    },
    {
      "cell_type": "markdown",
      "source": [
        "# Indexes are specified inside the np.array method."
      ],
      "metadata": {
        "id": "zZ2pqEWFopQl"
      }
    },
    {
      "cell_type": "code",
      "source": [
        "newnp = a[np.array([4, 3, 1, 2 ])] \n",
        "print(a)\n",
        "print(\"Elements: \",newnp)"
      ],
      "metadata": {
        "colab": {
          "base_uri": "https://localhost:8080/"
        },
        "id": "5orVFp_WmaXf",
        "outputId": "448dafa8-fc16-47d8-a50c-2f30c32b1183"
      },
      "execution_count": 35,
      "outputs": [
        {
          "output_type": "stream",
          "name": "stdout",
          "text": [
            "[20 19 18 17 16 15 14 13 12 11]\n",
            "Elements:  [16 17 19 18]\n"
          ]
        }
      ]
    },
    {
      "cell_type": "code",
      "source": [
        "a = np.array([1, 2, 3, 4, 5, 6, 7, 8, 9]) \n",
        "  \n",
        "# Index values can be negative. \n",
        "arr = a[np.array([1, 3, -3])]\n",
        "print(\"Elements: \", arr)"
      ],
      "metadata": {
        "colab": {
          "base_uri": "https://localhost:8080/"
        },
        "id": "te5IWgelmafy",
        "outputId": "38db1cbc-fc10-41f1-af2e-fa5066a464f6"
      },
      "execution_count": 36,
      "outputs": [
        {
          "output_type": "stream",
          "name": "stdout",
          "text": [
            "Elements:  [2 4 7]\n"
          ]
        }
      ]
    },
    {
      "cell_type": "code",
      "source": [
        "a = np.arange(20) \n",
        "print(a) \n",
        " \n",
        "  \n"
      ],
      "metadata": {
        "colab": {
          "base_uri": "https://localhost:8080/"
        },
        "id": "MgkqX1g8manv",
        "outputId": "fd3fd533-a092-44e1-a065-677b5ebe5ec7"
      },
      "execution_count": 37,
      "outputs": [
        {
          "output_type": "stream",
          "name": "stdout",
          "text": [
            "[ 0  1  2  3  4  5  6  7  8  9 10 11 12 13 14 15 16 17 18 19]\n"
          ]
        }
      ]
    },
    {
      "cell_type": "code",
      "source": [
        "  \n",
        "# a[start:stop:step] \n",
        "print(a[-8:17:1]) "
      ],
      "metadata": {
        "colab": {
          "base_uri": "https://localhost:8080/"
        },
        "id": "PzgQz4ZNmavh",
        "outputId": "33a007de-9061-4c20-c7b3-1f8109a863b8"
      },
      "execution_count": 38,
      "outputs": [
        {
          "output_type": "stream",
          "name": "stdout",
          "text": [
            "[12 13 14 15 16]\n"
          ]
        }
      ]
    },
    {
      "cell_type": "code",
      "source": [
        "# The : operator means all elements till the end. \n",
        "print(a[10:])"
      ],
      "metadata": {
        "colab": {
          "base_uri": "https://localhost:8080/"
        },
        "id": "s8aV8S7dma1J",
        "outputId": "7c6fe0a8-cd26-479e-c33d-116914e49f84"
      },
      "execution_count": 39,
      "outputs": [
        {
          "output_type": "stream",
          "name": "stdout",
          "text": [
            "[10 11 12 13 14 15 16 17 18 19]\n"
          ]
        }
      ]
    },
    {
      "cell_type": "code",
      "source": [
        "a = np.array([[1, 2, 3], \n",
        "              [4, 5, 6], \n",
        "              [7, 8, 9]])\n"
      ],
      "metadata": {
        "id": "aRDk2Pldma8m"
      },
      "execution_count": 40,
      "outputs": []
    },
    {
      "cell_type": "markdown",
      "source": [
        "# single row with 0 index column value"
      ],
      "metadata": {
        "id": "of6880JxqFnN"
      }
    },
    {
      "cell_type": "code",
      "source": [
        "print(a[:, 0]) \n"
      ],
      "metadata": {
        "colab": {
          "base_uri": "https://localhost:8080/"
        },
        "id": "dLcXT05wmbEI",
        "outputId": "fe6ee8d5-2e7f-4c49-8c8f-71551276f570"
      },
      "execution_count": 41,
      "outputs": [
        {
          "output_type": "stream",
          "name": "stdout",
          "text": [
            "[1 4 7]\n"
          ]
        }
      ]
    },
    {
      "cell_type": "code",
      "source": [
        "print(a[:, 1])\n"
      ],
      "metadata": {
        "colab": {
          "base_uri": "https://localhost:8080/"
        },
        "id": "Kk1--_wYmbJz",
        "outputId": "eb651961-ba02-497b-da1b-6d22a43d7ea6"
      },
      "execution_count": 42,
      "outputs": [
        {
          "output_type": "stream",
          "name": "stdout",
          "text": [
            "[2 5 8]\n"
          ]
        }
      ]
    },
    {
      "cell_type": "code",
      "source": [
        "print(a[:, 2])"
      ],
      "metadata": {
        "colab": {
          "base_uri": "https://localhost:8080/"
        },
        "id": "yUfMvcNFmbPx",
        "outputId": "57298c32-ab59-42cf-bb34-c73c907f392e"
      },
      "execution_count": 43,
      "outputs": [
        {
          "output_type": "stream",
          "name": "stdout",
          "text": [
            "[3 6 9]\n"
          ]
        }
      ]
    },
    {
      "cell_type": "code",
      "source": [
        "print(a)"
      ],
      "metadata": {
        "colab": {
          "base_uri": "https://localhost:8080/"
        },
        "id": "OunqLrxsqWxR",
        "outputId": "df4c6702-fb86-4f42-8bba-fd0f2c2cdf54"
      },
      "execution_count": 44,
      "outputs": [
        {
          "output_type": "stream",
          "name": "stdout",
          "text": [
            "[[1 2 3]\n",
            " [4 5 6]\n",
            " [7 8 9]]\n"
          ]
        }
      ]
    },
    {
      "cell_type": "markdown",
      "source": [
        "# a[row, column]"
      ],
      "metadata": {
        "id": "xDxJ5wU6qe0s"
      }
    },
    {
      "cell_type": "code",
      "source": [
        "print(a[0:2, 1:3]) \n",
        "print(a[0:2, 0:2])"
      ],
      "metadata": {
        "colab": {
          "base_uri": "https://localhost:8080/"
        },
        "id": "3qCkpLPBmbVA",
        "outputId": "495e2b46-c9d6-4189-a92e-1dbd518c30fc"
      },
      "execution_count": 45,
      "outputs": [
        {
          "output_type": "stream",
          "name": "stdout",
          "text": [
            "[[2 3]\n",
            " [5 6]]\n",
            "[[1 2]\n",
            " [4 5]]\n"
          ]
        }
      ]
    },
    {
      "cell_type": "code",
      "source": [
        "np.random.seed(10)\n",
        "vv = np.random.random((5, 4))\n",
        "print(vv)\n"
      ],
      "metadata": {
        "colab": {
          "base_uri": "https://localhost:8080/"
        },
        "id": "CEKhb-1GmbZf",
        "outputId": "e8e67bd0-c44e-4ceb-c208-5222f1ddc2d0"
      },
      "execution_count": 46,
      "outputs": [
        {
          "output_type": "stream",
          "name": "stdout",
          "text": [
            "[[0.77132064 0.02075195 0.63364823 0.74880388]\n",
            " [0.49850701 0.22479665 0.19806286 0.76053071]\n",
            " [0.16911084 0.08833981 0.68535982 0.95339335]\n",
            " [0.00394827 0.51219226 0.81262096 0.61252607]\n",
            " [0.72175532 0.29187607 0.91777412 0.71457578]]\n"
          ]
        }
      ]
    },
    {
      "cell_type": "code",
      "source": [
        "\n",
        "print(vv[2:5, 1:2])\n"
      ],
      "metadata": {
        "colab": {
          "base_uri": "https://localhost:8080/"
        },
        "id": "mTLeNG5Bmbd5",
        "outputId": "6c16b553-44b3-4486-a6ec-3badeff2f541"
      },
      "execution_count": 47,
      "outputs": [
        {
          "output_type": "stream",
          "name": "stdout",
          "text": [
            "[[0.08833981]\n",
            " [0.51219226]\n",
            " [0.29187607]]\n"
          ]
        }
      ]
    },
    {
      "cell_type": "code",
      "source": [
        "print(vv[2:5, 1])\n"
      ],
      "metadata": {
        "colab": {
          "base_uri": "https://localhost:8080/"
        },
        "id": "844q-ZCAmbhp",
        "outputId": "b7a581c0-8965-4cc0-d2ec-ea9166eec6b0"
      },
      "execution_count": 48,
      "outputs": [
        {
          "output_type": "stream",
          "name": "stdout",
          "text": [
            "[0.08833981 0.51219226 0.29187607]\n"
          ]
        }
      ]
    },
    {
      "cell_type": "code",
      "source": [
        "print(vv[2:-1, :])"
      ],
      "metadata": {
        "colab": {
          "base_uri": "https://localhost:8080/"
        },
        "id": "AHuoTqbTmbm4",
        "outputId": "31f062b0-0079-4122-8413-cae04742fb5b"
      },
      "execution_count": 49,
      "outputs": [
        {
          "output_type": "stream",
          "name": "stdout",
          "text": [
            "[[0.16911084 0.08833981 0.68535982 0.95339335]\n",
            " [0.00394827 0.51219226 0.81262096 0.61252607]]\n"
          ]
        }
      ]
    },
    {
      "cell_type": "code",
      "source": [
        "a = np.array([[1 ,2 ],\n",
        "              [3 ,4 ],\n",
        "              [5 ,6 ]]) \n",
        "\n",
        "print(a)"
      ],
      "metadata": {
        "colab": {
          "base_uri": "https://localhost:8080/"
        },
        "id": "_VZv6GxDmbqd",
        "outputId": "e06c8129-21ab-4a54-9478-a905dbc408d2"
      },
      "execution_count": 50,
      "outputs": [
        {
          "output_type": "stream",
          "name": "stdout",
          "text": [
            "[[1 2]\n",
            " [3 4]\n",
            " [5 6]]\n"
          ]
        }
      ]
    },
    {
      "cell_type": "code",
      "source": [
        "print(a[[0 ,1 ,2 ]])\n"
      ],
      "metadata": {
        "colab": {
          "base_uri": "https://localhost:8080/"
        },
        "id": "cKIfjULmmbvB",
        "outputId": "d8d8987e-b1e7-4d71-8ed9-d476037f763d"
      },
      "execution_count": 51,
      "outputs": [
        {
          "output_type": "stream",
          "name": "stdout",
          "text": [
            "[[1 2]\n",
            " [3 4]\n",
            " [5 6]]\n"
          ]
        }
      ]
    },
    {
      "cell_type": "code",
      "source": [
        "print(a[[0 ,1 ,2 ],[0 ,0 ,1]])"
      ],
      "metadata": {
        "colab": {
          "base_uri": "https://localhost:8080/"
        },
        "id": "qrwsZ2XWr5F_",
        "outputId": "d81419c4-e5d3-4f82-a28b-01e0684364cb"
      },
      "execution_count": 52,
      "outputs": [
        {
          "output_type": "stream",
          "name": "stdout",
          "text": [
            "[1 3 6]\n"
          ]
        }
      ]
    },
    {
      "cell_type": "code",
      "source": [
        "b = np.array([[5, 5],\n",
        "              [15, 5],\n",
        "              [16, 4]]) \n",
        "\n",
        "sumrow = b.sum(1) \n",
        "print(sumrow)\n",
        "print(b[sumrow%10==0])"
      ],
      "metadata": {
        "colab": {
          "base_uri": "https://localhost:8080/"
        },
        "id": "30X00oYHr43j",
        "outputId": "068e15bf-dada-4cb7-a6be-009e02f6bcb0"
      },
      "execution_count": 53,
      "outputs": [
        {
          "output_type": "stream",
          "name": "stdout",
          "text": [
            "[10 20 20]\n",
            "[[ 5  5]\n",
            " [15  5]\n",
            " [16  4]]\n"
          ]
        }
      ]
    },
    {
      "cell_type": "code",
      "source": [],
      "metadata": {
        "id": "JnP7HnYWr4vx"
      },
      "execution_count": null,
      "outputs": []
    },
    {
      "cell_type": "code",
      "source": [],
      "metadata": {
        "id": "jAfYHfd0r4hY"
      },
      "execution_count": null,
      "outputs": []
    }
  ]
}